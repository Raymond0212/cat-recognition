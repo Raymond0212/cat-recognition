{
 "cells": [
  {
   "cell_type": "code",
   "execution_count": 46,
   "metadata": {},
   "outputs": [],
   "source": [
    "from bs4 import BeautifulSoup\n",
    "from requests_html import AsyncHTMLSession\n",
    "import requests\n",
    "import re\n",
    "import time\n",
    "baseUrl1 = 'https://image.baidu.com/search/flip?tn=baiduimage&ie=utf-8&word=波斯猫&pn='\n",
    "baseUrl2 = '&gsm=&ct=&ic=0&lm=-1&width=0&height=0'\n",
    "header = {\n",
    "        \"User-Agent\": \"Mozilla/5.0 (Windows NT 10.0; Win64; x64) AppleWebKit/537.36 (KHTML, like Gecko) Chrome/61.0.3163.100 Safari/537.36\",\n",
    "        \"Connection\": \"keep-alive\",\n",
    "        \"Accept\": \"text/html,application/xhtml+xml,application/xml;q=0.9,image/webp,image/apng,*/*;q=0.8\",\n",
    "        \"Accept-Language\": \"zh-CN,zh;q=0.8\"}"
   ]
  },
  {
   "cell_type": "code",
   "execution_count": 2,
   "metadata": {},
   "outputs": [],
   "source": [
    "picCount = 0\n",
    "baseUrl = 'http://soso.nipic.com/?q=%E7%8C%AB&page='\n",
    "for i in range(1,2):\n",
    "    pageNum = str(i)\n",
    "    target = baseUrl+pageNum\n",
    "    response = requests.get(target, headers = header)\n",
    "    soup = BeautifulSoup(response.text, 'html.parser')\n",
    "    imageSet = soup.find_all('img')\n",
    "    for imageInfo in imageSet:\n",
    "        link = imageInfo.get('data-original')\n",
    "        if not link is None:\n",
    "            time.sleep(2)\n",
    "            picCount += 1\n",
    "            img = requests.get(link, headers = header).content\n",
    "            with open( './img-noisy/'+str(picCount)+'.jpg','wb' ) as f:\n",
    "                f.write(img)"
   ]
  },
  {
   "cell_type": "code",
   "execution_count": null,
   "metadata": {},
   "outputs": [],
   "source": [
    "picCount = 0\n",
    "\n",
    "for i in range(3):\n",
    "    pageNum = str(i*20*3)\n",
    "    target = baseUrl1 + pageNum + baseUrl2\n",
    "    response = requests.get(target, headers = header)\n",
    "    picture_list = re.findall('{\"thumbURL\":\"(.*?)\",', response.text)\n",
    "    print(picture_list)\n",
    "    for imageLink in picture_list:\n",
    "        print(imageLink)\n",
    "        if 1==1:\n",
    "            time.sleep(2)\n",
    "            picCount += 1\n",
    "            img = requests.get(imageLink, headers = header).content\n",
    "            with open( './img/'+str(picCount)+'.jpg','wb' ) as f:\n",
    "                f.write(img)"
   ]
  }
 ],
 "metadata": {
  "kernelspec": {
   "display_name": "Python 3",
   "language": "python",
   "name": "python3"
  },
  "language_info": {
   "codemirror_mode": {
    "name": "ipython",
    "version": 3
   },
   "file_extension": ".py",
   "mimetype": "text/x-python",
   "name": "python",
   "nbconvert_exporter": "python",
   "pygments_lexer": "ipython3",
   "version": "3.7.3"
  }
 },
 "nbformat": 4,
 "nbformat_minor": 2
}
