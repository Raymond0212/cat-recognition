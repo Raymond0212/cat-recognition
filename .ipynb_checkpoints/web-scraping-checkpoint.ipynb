{
 "cells": [
  {
   "cell_type": "code",
   "execution_count": 7,
   "metadata": {},
   "outputs": [],
   "source": [
    "import requests\n",
    "import re\n",
    "import time\n",
    "import os\n",
    "header = {\n",
    "        \"User-Agent\": \"Mozilla/5.0 (Windows NT 10.0; Win64; x64) AppleWebKit/537.36 (KHTML, like Gecko) Chrome/61.0.3163.100 Safari/537.36\",\n",
    "        \"Connection\": \"keep-alive\",\n",
    "        \"Accept\": \"text/html,application/xhtml+xml,application/xml;q=0.9,image/webp,image/apng,*/*;q=0.8\",\n",
    "        \"Accept-Language\": \"zh-CN,zh;q=0.8\"}"
   ]
  },
  {
   "cell_type": "code",
   "execution_count": 8,
   "metadata": {},
   "outputs": [],
   "source": [
    "def imgs(kind):\n",
    "    baseUrl1 = 'https://image.baidu.com/search/flip?tn=baiduimage&ie=utf-8&word={}&pn='.format(kind)\n",
    "    baseUrl2 = '&gsm=&ct=&ic=0&lm=-1&width=0&height=0'\n",
    "\n",
    "    picCount = 0\n",
    "\n",
    "    for i in range(3):\n",
    "        pageNum = str(i*20*3)\n",
    "        target = baseUrl1 + pageNum + baseUrl2\n",
    "        response = requests.get(target, headers = header)\n",
    "        picture_list = re.findall('{\"thumbURL\":\"(.*?)\",', response.text)\n",
    "        for imageLink in picture_list:\n",
    "            print(imageLink)\n",
    "            time.sleep(2)\n",
    "            picCount += 1\n",
    "            img = requests.get(imageLink, headers = header).content\n",
    "            try:\n",
    "                with open( './img/{}/{}.jpg'.format(kind,str(picCount)),'wb' ) as f:\n",
    "                    f.write(img)\n",
    "            except:\n",
    "                os.mkdir('./img/{}'.format(kind))\n",
    "                with open( './img/{}/{}.jpg'.format(kind,str(picCount)),'wb' ) as f:\n",
    "                    f.write(img)\n",
    "                \n",
    "    return picCount"
   ]
  },
  {
   "cell_type": "code",
   "execution_count": null,
   "metadata": {},
   "outputs": [
    {
     "name": "stdout",
     "output_type": "stream",
     "text": [
      "https://ss0.bdstatic.com/70cFuHSh_Q1YnxGkpoWK1HF6hhy/it/u=3362668150,2813868382&fm=26&gp=0.jpg\n",
      "https://ss0.bdstatic.com/70cFuHSh_Q1YnxGkpoWK1HF6hhy/it/u=1151795200,1183783656&fm=26&gp=0.jpg\n",
      "https://ss1.bdstatic.com/70cFuXSh_Q1YnxGkpoWK1HF6hhy/it/u=120597431,3736924584&fm=26&gp=0.jpg\n",
      "https://ss1.bdstatic.com/70cFuXSh_Q1YnxGkpoWK1HF6hhy/it/u=880215847,2913406822&fm=26&gp=0.jpg\n",
      "https://ss3.bdstatic.com/70cFv8Sh_Q1YnxGkpoWK1HF6hhy/it/u=2440485147,3005996392&fm=26&gp=0.jpg\n",
      "https://ss1.bdstatic.com/70cFvXSh_Q1YnxGkpoWK1HF6hhy/it/u=97861588,1799723319&fm=26&gp=0.jpg\n",
      "https://ss3.bdstatic.com/70cFv8Sh_Q1YnxGkpoWK1HF6hhy/it/u=190858659,1534866330&fm=26&gp=0.jpg\n",
      "https://ss2.bdstatic.com/70cFvnSh_Q1YnxGkpoWK1HF6hhy/it/u=2907592998,478745810&fm=26&gp=0.jpg\n",
      "https://ss2.bdstatic.com/70cFvnSh_Q1YnxGkpoWK1HF6hhy/it/u=3122971795,4134636599&fm=26&gp=0.jpg\n",
      "https://ss0.bdstatic.com/70cFuHSh_Q1YnxGkpoWK1HF6hhy/it/u=109814723,1754997341&fm=26&gp=0.jpg\n",
      "https://ss1.bdstatic.com/70cFuXSh_Q1YnxGkpoWK1HF6hhy/it/u=2289997172,1190430147&fm=26&gp=0.jpg\n",
      "https://ss1.bdstatic.com/70cFuXSh_Q1YnxGkpoWK1HF6hhy/it/u=1991369408,4288592269&fm=26&gp=0.jpg\n",
      "https://ss2.bdstatic.com/70cFvnSh_Q1YnxGkpoWK1HF6hhy/it/u=1139695292,2426104188&fm=26&gp=0.jpg\n",
      "https://ss1.bdstatic.com/70cFuXSh_Q1YnxGkpoWK1HF6hhy/it/u=2043397724,811339077&fm=26&gp=0.jpg\n",
      "https://ss1.bdstatic.com/70cFvXSh_Q1YnxGkpoWK1HF6hhy/it/u=562616547,3508755178&fm=26&gp=0.jpg\n",
      "https://ss3.bdstatic.com/70cFv8Sh_Q1YnxGkpoWK1HF6hhy/it/u=178417876,834358787&fm=26&gp=0.jpg\n",
      "https://ss0.bdstatic.com/70cFuHSh_Q1YnxGkpoWK1HF6hhy/it/u=2153458805,3997301055&fm=26&gp=0.jpg\n",
      "https://ss1.bdstatic.com/70cFvXSh_Q1YnxGkpoWK1HF6hhy/it/u=3274613881,2677302670&fm=26&gp=0.jpg\n",
      "https://ss2.bdstatic.com/70cFvnSh_Q1YnxGkpoWK1HF6hhy/it/u=1209491277,3104183175&fm=26&gp=0.jpg\n",
      "https://ss0.bdstatic.com/70cFvHSh_Q1YnxGkpoWK1HF6hhy/it/u=2927361451,2003608395&fm=26&gp=0.jpg\n",
      "https://ss2.bdstatic.com/70cFvnSh_Q1YnxGkpoWK1HF6hhy/it/u=346879539,845247383&fm=26&gp=0.jpg\n",
      "https://ss3.bdstatic.com/70cFv8Sh_Q1YnxGkpoWK1HF6hhy/it/u=3532980769,232873466&fm=26&gp=0.jpg\n",
      "https://ss0.bdstatic.com/70cFvHSh_Q1YnxGkpoWK1HF6hhy/it/u=3803255354,2893871834&fm=26&gp=0.jpg\n",
      "https://ss1.bdstatic.com/70cFvXSh_Q1YnxGkpoWK1HF6hhy/it/u=3712380362,565845785&fm=26&gp=0.jpg\n",
      "https://ss2.bdstatic.com/70cFvnSh_Q1YnxGkpoWK1HF6hhy/it/u=2035878331,1467627691&fm=26&gp=0.jpg\n",
      "https://ss1.bdstatic.com/70cFuXSh_Q1YnxGkpoWK1HF6hhy/it/u=1230844145,543804462&fm=26&gp=0.jpg\n",
      "https://ss1.bdstatic.com/70cFvXSh_Q1YnxGkpoWK1HF6hhy/it/u=2594912208,3135419459&fm=26&gp=0.jpg\n",
      "https://ss0.bdstatic.com/70cFuHSh_Q1YnxGkpoWK1HF6hhy/it/u=2039452951,3504802999&fm=26&gp=0.jpg\n",
      "https://ss0.bdstatic.com/70cFvHSh_Q1YnxGkpoWK1HF6hhy/it/u=1010156625,1263297609&fm=26&gp=0.jpg\n",
      "https://ss0.bdstatic.com/70cFvHSh_Q1YnxGkpoWK1HF6hhy/it/u=3588051148,3983193612&fm=26&gp=0.jpg\n",
      "https://ss0.bdstatic.com/70cFuHSh_Q1YnxGkpoWK1HF6hhy/it/u=4179440542,1131798652&fm=26&gp=0.jpg\n",
      "https://ss3.bdstatic.com/70cFv8Sh_Q1YnxGkpoWK1HF6hhy/it/u=1486341110,1529707321&fm=26&gp=0.jpg\n",
      "https://ss0.bdstatic.com/70cFuHSh_Q1YnxGkpoWK1HF6hhy/it/u=1485456288,608565184&fm=26&gp=0.jpg\n",
      "https://ss3.bdstatic.com/70cFv8Sh_Q1YnxGkpoWK1HF6hhy/it/u=2689318238,2108621315&fm=26&gp=0.jpg\n",
      "https://ss1.bdstatic.com/70cFvXSh_Q1YnxGkpoWK1HF6hhy/it/u=2653646900,714537245&fm=26&gp=0.jpg\n",
      "https://ss1.bdstatic.com/70cFvXSh_Q1YnxGkpoWK1HF6hhy/it/u=3397322486,2048825943&fm=26&gp=0.jpg\n",
      "https://ss0.bdstatic.com/70cFuHSh_Q1YnxGkpoWK1HF6hhy/it/u=2099140129,3453252445&fm=26&gp=0.jpg\n",
      "https://ss1.bdstatic.com/70cFvXSh_Q1YnxGkpoWK1HF6hhy/it/u=1054958422,3137947971&fm=26&gp=0.jpg\n",
      "https://ss0.bdstatic.com/70cFuHSh_Q1YnxGkpoWK1HF6hhy/it/u=259582303,3346571367&fm=26&gp=0.jpg\n"
     ]
    }
   ],
   "source": [
    "nameList = ['蓝猫','芬克斯猫','美短','银渐层','金渐层','布偶猫',\n",
    "            '暹罗猫','孟买猫','喜马拉雅猫','缅因猫','玫瑰纹豹猫','橘猫','奶牛猫','扁脸加菲猫','折耳猫']\n",
    "for name in nameList:\n",
    "    print(imgs(name))"
   ]
  }
 ],
 "metadata": {
  "kernelspec": {
   "display_name": "Python 3",
   "language": "python",
   "name": "python3"
  },
  "language_info": {
   "codemirror_mode": {
    "name": "ipython",
    "version": 3
   },
   "file_extension": ".py",
   "mimetype": "text/x-python",
   "name": "python",
   "nbconvert_exporter": "python",
   "pygments_lexer": "ipython3",
   "version": "3.7.3"
  }
 },
 "nbformat": 4,
 "nbformat_minor": 2
}
