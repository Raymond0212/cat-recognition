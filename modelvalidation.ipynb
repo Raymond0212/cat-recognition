{
 "cells": [
  {
   "cell_type": "code",
   "execution_count": 1,
   "metadata": {},
   "outputs": [
    {
     "name": "stderr",
     "output_type": "stream",
     "text": [
      "Using TensorFlow backend.\n"
     ]
    }
   ],
   "source": [
    "from tensorflow.keras.preprocessing.image import ImageDataGenerator\n",
    "from tensorflow.keras.models import load_model\n",
    "from keras.preprocessing import image\n",
    "import numpy as np"
   ]
  },
  {
   "cell_type": "code",
   "execution_count": 2,
   "metadata": {},
   "outputs": [
    {
     "name": "stdout",
     "output_type": "stream",
     "text": [
      "WARNING:tensorflow:From C:\\Users\\cs623\\Anaconda3\\envs\\py36\\lib\\site-packages\\tensorflow\\python\\ops\\init_ops.py:97: calling GlorotUniform.__init__ (from tensorflow.python.ops.init_ops) with dtype is deprecated and will be removed in a future version.\n",
      "Instructions for updating:\n",
      "Call initializer instance with the dtype argument instead of passing it to the constructor\n",
      "WARNING:tensorflow:From C:\\Users\\cs623\\Anaconda3\\envs\\py36\\lib\\site-packages\\tensorflow\\python\\ops\\init_ops.py:1251: calling VarianceScaling.__init__ (from tensorflow.python.ops.init_ops) with dtype is deprecated and will be removed in a future version.\n",
      "Instructions for updating:\n",
      "Call initializer instance with the dtype argument instead of passing it to the constructor\n",
      "WARNING:tensorflow:From C:\\Users\\cs623\\Anaconda3\\envs\\py36\\lib\\site-packages\\tensorflow\\python\\ops\\init_ops.py:97: calling Zeros.__init__ (from tensorflow.python.ops.init_ops) with dtype is deprecated and will be removed in a future version.\n",
      "Instructions for updating:\n",
      "Call initializer instance with the dtype argument instead of passing it to the constructor\n"
     ]
    }
   ],
   "source": [
    "detection = load_model(\".\\\\Detection.h5\")\n",
    "detection.load_weights(\".\\\\Detection_weights.h5\")\n",
    "identification = load_model(\".\\\\Identification.h5\")\n",
    "identification.load_weights(\".\\\\Identification_weights.h5\")"
   ]
  },
  {
   "cell_type": "code",
   "execution_count": 3,
   "metadata": {},
   "outputs": [
    {
     "name": "stdout",
     "output_type": "stream",
     "text": [
      "Found 31911 images belonging to 2 classes.\n",
      "{'cat': 0, 'no_cat': 1}\n"
     ]
    }
   ],
   "source": [
    "PATH = \".\\\\img\"\n",
    "\n",
    "BATCH_SIZE = 128\n",
    "EPOCHS = 60\n",
    "IMG_HEIGHT = 116\n",
    "IMG_WIDTH = 116\n",
    "IMG_DEPTH = 3\n",
    "\n",
    "datagen = ImageDataGenerator(\n",
    "    rescale=1./255,\n",
    "#     rotation_range=40, # Angle, 0-180\n",
    "#     width_shift_range=0.2, # horizontNoneal shifting\n",
    "#     height_shift_range=0.2, # vertical shifting\n",
    "#     shear_range=0.2, # Shearing\n",
    "#     zoom_range=0.2, # Zooming\n",
    "#     horizontal_flip=True, # Flipping\n",
    ")\n",
    "\n",
    "# Load images from the disk, applies rescaling, and resizes the images\n",
    "test_generator = datagen.flow_from_directory(\n",
    "    directory=PATH,\n",
    "    target_size=(IMG_HEIGHT, IMG_WIDTH),\n",
    "    batch_size=BATCH_SIZE,\n",
    "    class_mode='categorical',\n",
    "    shuffle=True\n",
    ") # set as training data\n",
    "print(test_generator.class_indices)"
   ]
  },
  {
   "cell_type": "code",
   "execution_count": null,
   "metadata": {},
   "outputs": [
    {
     "name": "stdout",
     "output_type": "stream",
     "text": [
      "evaluating...\n"
     ]
    },
    {
     "name": "stderr",
     "output_type": "stream",
     "text": [
      "C:\\Users\\cs623\\Anaconda3\\envs\\py36\\lib\\site-packages\\PIL\\Image.py:989: UserWarning: Palette images with Transparency expressed in bytes should be converted to RGBA images\n",
      "  \"Palette images with Transparency expressed in bytes should be \"\n"
     ]
    }
   ],
   "source": [
    "print('evaluating...')\n",
    "\n",
    "detection.evaluate_generator(\n",
    "    test_generator,\n",
    "    steps = len(test_generator)\n",
    ")"
   ]
  },
  {
   "cell_type": "code",
   "execution_count": null,
   "metadata": {},
   "outputs": [],
   "source": [
    "PATH = os.path.join(PATH, \"//cat\")\n",
    "dirlist = os.listdir(PATH)\n",
    "catPath = [os.path.join(PATH, dirname) for dirname in dirlist]\n",
    "\n",
    "TOTAL_IMG_NUM = sum(map(len,map(os.listdir, catPath)))\n",
    "print('all kinds of cats: ', dirlist)\n",
    "for i in range(len(catPath)):\n",
    "    print(dirlist[i], ': ', len(os.listdir(catPath[i])))\n",
    "print('total cat imgs: ', TOTAL_IMG_NUM)"
   ]
  },
  {
   "cell_type": "code",
   "execution_count": null,
   "metadata": {},
   "outputs": [],
   "source": [
    "BATCH_SIZE = 128\n",
    "EPOCHS = 60\n",
    "IMG_HEIGHT = 116\n",
    "IMG_WIDTH = 116\n",
    "IMG_DEPTH = 3\n",
    "SPLIT = 0.2\n",
    "CLASSNUM = len(dirlist)\n",
    "TOTAL_CVAL = TOTAL_IMG_NUM * SPLIT\n",
    "TOTAL_TRAIN = TOTAL_IMG_NUM * (1 - SPLIT)\n",
    "\n",
    "datagen = ImageDataGenerator(\n",
    "    rescale=1./255,\n",
    "#     rotation_range=40, # Angle, 0-180\n",
    "#     width_shift_range=0.2, # horizontNoneal shifting\n",
    "#     height_shift_range=0.2, # vertical shifting\n",
    "#     shear_range=0.2, # Shearing\n",
    "#     zoom_range=0.2, # Zooming\n",
    "#     horizontal_flip=True, # Flipping\n",
    ")\n",
    "\n",
    "# Load images from the disk, applies rescaling, and resizes the images\n",
    "test_generator = datagen.flow_from_directory(\n",
    "    directory=PATH,\n",
    "    target_size=(IMG_HEIGHT, IMG_WIDTH),\n",
    "    batch_size=BATCH_SIZE,\n",
    "    class_mode='categorical',\n",
    "    shuffle=True\n",
    ") # set as training data\n",
    "print(test_generator.class_indices)"
   ]
  },
  {
   "cell_type": "code",
   "execution_count": null,
   "metadata": {},
   "outputs": [],
   "source": [
    "identification.compile(loss='categorical_crossentropy',\n",
    "              optimizer='SGD',\n",
    "              metrics=['accuracy'])\n",
    "\n",
    "print('evaluating...')\n",
    "\n",
    "identification.evaluate_generator(\n",
    "    test_generator,\n",
    "    steps = len(test_generator)/2\n",
    ")"
   ]
  },
  {
   "cell_type": "code",
   "execution_count": null,
   "metadata": {},
   "outputs": [],
   "source": []
  }
 ],
 "metadata": {
  "file_extension": ".py",
  "kernelspec": {
   "display_name": "Python 3",
   "language": "python",
   "name": "python3"
  },
  "language_info": {
   "codemirror_mode": {
    "name": "ipython",
    "version": 3
   },
   "file_extension": ".py",
   "mimetype": "text/x-python",
   "name": "python",
   "nbconvert_exporter": "python",
   "pygments_lexer": "ipython3",
   "version": "3.6.9"
  },
  "mimetype": "text/x-python",
  "name": "python",
  "npconvert_exporter": "python",
  "pygments_lexer": "ipython3",
  "version": 3
 },
 "nbformat": 4,
 "nbformat_minor": 2
}
