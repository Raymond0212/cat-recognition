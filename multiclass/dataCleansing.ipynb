{
 "nbformat": 4,
 "nbformat_minor": 2,
 "metadata": {
  "language_info": {
   "name": "python",
   "codemirror_mode": {
    "name": "ipython",
    "version": 3
   },
   "version": "3.6.9"
  },
  "orig_nbformat": 2,
  "file_extension": ".py",
  "mimetype": "text/x-python",
  "name": "python",
  "npconvert_exporter": "python",
  "pygments_lexer": "ipython3",
  "version": 3
 },
 "cells": [
  {
   "cell_type": "markdown",
   "execution_count": null,
   "metadata": {},
   "outputs": [],
   "source": [
    "# Cleanse Data in ```img```"
   ]
  },
  {
   "cell_type": "code",
   "execution_count": 1,
   "metadata": {},
   "outputs": [],
   "source": [
    "import os\n",
    "from PIL import Image"
   ]
  },
  {
   "cell_type": "code",
   "execution_count": 2,
   "metadata": {},
   "outputs": [],
   "source": [
    "path = \"./img\"\n",
    "catPath = os.path.join(path, 'cat')\n",
    "dirlist = os.listdir(catPath)\n",
    "catCatePath = [os.path.join(catPath, dirname) for dirname in dirlist]\n",
    "noCatPath = os.path.join(path, 'no_cat')\n",
    "dirlist = os.listdir(noCatPath)\n",
    "noCatCatePath = [os.path.join(noCatPath, dirname) for dirname in dirlist]"
   ]
  },
  {
   "cell_type": "code",
   "execution_count": 3,
   "metadata": {},
   "outputs": [],
   "source": [
    "def removeWrongImg(filePath):\n",
    "    for fileCategory in filePath:\n",
    "        imgNameList = os.listdir(fileCategory)\n",
    "        for imgName in imgNameList:\n",
    "            imgPath = os.path.join(fileCategory, imgName)\n",
    "            try:\n",
    "                Image.open(imgPath).load()\n",
    "                if imgName.find('.jpg') == -1 and imgName.find('.jpeg') == -1:\n",
    "                    os.remove(imgPath)\n",
    "            except OSError:\n",
    "                os.remove(imgPath)\n",
    "    print('...Done')"
   ]
  },
  {
   "cell_type": "code",
   "execution_count": 4,
   "metadata": {},
   "outputs": [
    {
     "name": "stdout",
     "output_type": "stream",
     "text": "...Done\n...Done\n"
    }
   ],
   "source": [
    "removeWrongImg(catCatePath)\n",
    "removeWrongImg(noCatCatePath)"
   ]
  }
 ]
}