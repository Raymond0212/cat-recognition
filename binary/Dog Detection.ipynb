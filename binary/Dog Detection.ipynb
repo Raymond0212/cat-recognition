{
 "cells": [
  {
   "cell_type": "markdown",
   "metadata": {},
   "source": [
    "## Import library"
   ]
  },
  {
   "cell_type": "code",
   "execution_count": 1,
   "metadata": {},
   "outputs": [],
   "source": [
    "import os\n",
    "import numpy as np\n",
    "import tensorflow as tf\n",
    "import matplotlib.pyplot as plt\n",
    "\n",
    "from tensorflow.keras.models import Sequential\n",
    "from tensorflow.keras.layers import Dense, Conv2D, Flatten, Dropout, MaxPooling2D\n",
    "from tensorflow.keras.preprocessing.image import ImageDataGenerator\n",
    "\n",
    "\n",
    "os.environ[\"CUDA_VISIBLE_DEVICES\"] = \"0\" "
   ]
  },
  {
   "cell_type": "code",
   "execution_count": 21,
   "metadata": {},
   "outputs": [],
   "source": [
    "def get_available_gpus():\n",
    "    \"\"\"\n",
    "    code from http://stackoverflow.com/questions/38559755/how-to-get-current-available-gpus-in-tensorflow\n",
    "    \"\"\"\n",
    "    from tensorflow.python.client import device_lib as _device_lib\n",
    "    local_device_protos = _device_lib.list_local_devices()\n",
    "    return [x.name for x in local_device_protos if x.device_type == 'GPU' or x.device_type == 'CPU']"
   ]
  },
  {
   "cell_type": "code",
   "execution_count": 22,
   "metadata": {},
   "outputs": [
    {
     "data": {
      "text/plain": [
       "['/device:CPU:0', '/device:GPU:0']"
      ]
     },
     "execution_count": 22,
     "metadata": {},
     "output_type": "execute_result"
    }
   ],
   "source": [
    "get_available_gpus()"
   ]
  },
  {
   "cell_type": "markdown",
   "metadata": {},
   "source": [
    "## Define path"
   ]
  },
  {
   "cell_type": "code",
   "execution_count": 11,
   "metadata": {},
   "outputs": [],
   "source": [
    "path = \"../img/detection\"\n",
    "path_dog = os.path.join(path, 'dog')\n",
    "path_nodog = os.path.join(path, 'no_dog')\n",
    "\n",
    "path_dog_corgi = os.path.join(path_dog, 'corgi')\n",
    "path_dog_shiba = os.path.join(path_dog, 'shiba')\n",
    "path_dog_gr = os.path.join(path_dog, 'gr')\n",
    "\n",
    "path_nodog_parrot = os.path.join(path_nodog, 'parrot')\n",
    "path_nodog_tiger = os.path.join(path_nodog, 'tiger')\n",
    "path_nodog_rabbit = os.path.join(path_nodog, 'rabbit')\n",
    "class_names = ['dog', 'no_dog']"
   ]
  },
  {
   "cell_type": "code",
   "execution_count": 12,
   "metadata": {},
   "outputs": [],
   "source": [
    "# clear error image\n",
    "from PIL import Image\n",
    "path_list = [path_dog_corgi, path_dog_shiba, path_dog_gr, path_nodog_parrot,\n",
    "            path_nodog_tiger, path_nodog_rabbit]\n",
    "\n",
    "for p in path_list:\n",
    "    file_list = os.listdir(p)\n",
    "    for n in file_list:\n",
    "        file_path = os.path.join(p, n)\n",
    "        try:\n",
    "            img = Image.open(file_path)\n",
    "        except:\n",
    "            os.remove(file_path)"
   ]
  },
  {
   "cell_type": "markdown",
   "metadata": {},
   "source": [
    "## EDA"
   ]
  },
  {
   "cell_type": "code",
   "execution_count": 13,
   "metadata": {},
   "outputs": [],
   "source": [
    "split = 0.2"
   ]
  },
  {
   "cell_type": "code",
   "execution_count": 14,
   "metadata": {},
   "outputs": [
    {
     "name": "stdout",
     "output_type": "stream",
     "text": [
      "total dog images: 3321\n",
      "total no_dog images: 3199\n",
      "total images: 6520\n",
      "number of training data: 5216.0\n",
      "number of validation: 1304.0\n"
     ]
    }
   ],
   "source": [
    "num_corgi = len(os.listdir(path_dog_corgi))\n",
    "num_shiba = len(os.listdir(path_dog_shiba))\n",
    "num_gr = len(os.listdir(path_dog_gr))\n",
    "num_dogs = num_gr + num_shiba + num_corgi\n",
    "\n",
    "num_parrot = len(os.listdir(path_nodog_parrot))\n",
    "num_tiger = len(os.listdir(path_nodog_tiger))\n",
    "num_rabbit = len(os.listdir(path_nodog_rabbit))\n",
    "num_nodogs = num_parrot + num_tiger + num_rabbit\n",
    "\n",
    "total_img_num = num_dogs + num_nodogs\n",
    "\n",
    "total_val = total_img_num * split\n",
    "total_train = total_img_num - total_val\n",
    "\n",
    "print('total dog images:', num_dogs)\n",
    "print('total no_dog images:', num_nodogs)\n",
    "print('total images:', total_img_num)\n",
    "print('number of training data:', total_train)\n",
    "print('number of validation:', total_val)"
   ]
  },
  {
   "cell_type": "markdown",
   "metadata": {},
   "source": [
    "## Train test split"
   ]
  },
  {
   "cell_type": "code",
   "execution_count": 15,
   "metadata": {},
   "outputs": [],
   "source": [
    "epochs = 20 #10\n",
    "IMG_HEIGHT = 224\n",
    "IMG_WIDTH = 224\n",
    "batch_size = 128"
   ]
  },
  {
   "cell_type": "code",
   "execution_count": 16,
   "metadata": {},
   "outputs": [],
   "source": [
    "# Generator\n",
    "data_generator = ImageDataGenerator(rescale=1./255, validation_split=split)"
   ]
  },
  {
   "cell_type": "code",
   "execution_count": 17,
   "metadata": {},
   "outputs": [
    {
     "name": "stdout",
     "output_type": "stream",
     "text": [
      "Found 5217 images belonging to 2 classes.\n",
      "Found 1303 images belonging to 2 classes.\n"
     ]
    }
   ],
   "source": [
    "# Load images from the disk, applies rescaling, and resizes the images\n",
    "\n",
    "train_generator = data_generator.flow_from_directory(\n",
    "    directory=path,\n",
    "    target_size=(IMG_HEIGHT, IMG_WIDTH),\n",
    "    batch_size=batch_size,\n",
    "    class_mode='binary',\n",
    "    shuffle=True,\n",
    "    subset='training') # set as training data\n",
    "\n",
    "validation_generator = data_generator.flow_from_directory(\n",
    "    directory=path,\n",
    "    target_size=(IMG_HEIGHT, IMG_WIDTH),\n",
    "    batch_size=batch_size,\n",
    "    class_mode='binary',\n",
    "    shuffle=True,\n",
    "    subset='validation') # set as validation data"
   ]
  },
  {
   "cell_type": "markdown",
   "metadata": {},
   "source": [
    "## Labels"
   ]
  },
  {
   "cell_type": "code",
   "execution_count": null,
   "metadata": {},
   "outputs": [],
   "source": [
    "import collections\n",
    "\n",
    "def count_label(generator):\n",
    "    l = len(generator)\n",
    "    counter = collections.Counter()\n",
    "    for i in range(l):\n",
    "        _, label = generator[i]\n",
    "        unique, counts = np.unique(label, return_counts=True)\n",
    "        count_label = dict(zip(unique, counts))\n",
    "        counter.update(count_label) \n",
    "    result = dict(counter)\n",
    "    return result"
   ]
  },
  {
   "cell_type": "code",
   "execution_count": null,
   "metadata": {},
   "outputs": [],
   "source": [
    "train_count = count_label(train_generator)\n",
    "val_count = count_label(validation_generator)\n",
    "\n",
    "print(\"Training labels:\")\n",
    "print(train_count)\n",
    "print(\"Validation labels:\")\n",
    "print(val_count)"
   ]
  },
  {
   "cell_type": "code",
   "execution_count": null,
   "metadata": {},
   "outputs": [],
   "source": [
    "def get_image_label(generator):\n",
    "    l = len(generator)\n",
    "    images = []\n",
    "    labels = []\n",
    "    for i in range(l):\n",
    "        image, label = generator[i]\n",
    "        images.append(image.tolist())\n",
    "        labels.append(label.tolist())\n",
    "    return [images, labels]"
   ]
  },
  {
   "cell_type": "code",
   "execution_count": null,
   "metadata": {},
   "outputs": [],
   "source": [
    "val_img_lab = get_image_label(validation_generator)"
   ]
  },
  {
   "cell_type": "markdown",
   "metadata": {},
   "source": [
    "## Sample visualisation"
   ]
  },
  {
   "cell_type": "code",
   "execution_count": 11,
   "metadata": {},
   "outputs": [],
   "source": [
    "sample_img_train, sample_label_train = next(train_generator)"
   ]
  },
  {
   "cell_type": "code",
   "execution_count": null,
   "metadata": {},
   "outputs": [],
   "source": [
    "def plotImg(img, label):\n",
    "    plt.figure(figsize=(10, 10))\n",
    "    for i in range(25):\n",
    "        plt.subplot(5, 5, i+1)\n",
    "        plt.xticks([])\n",
    "        plt.yticks([])\n",
    "        plt.grid(False)\n",
    "        plt.imshow(img[i])\n",
    "        plt.xlabel(class_names[int(label[i])])\n",
    "    plt.show()"
   ]
  },
  {
   "cell_type": "code",
   "execution_count": null,
   "metadata": {},
   "outputs": [],
   "source": [
    "plotImg(sample_img_train, sample_label_train)"
   ]
  },
  {
   "cell_type": "markdown",
   "metadata": {},
   "source": [
    "## Model"
   ]
  },
  {
   "cell_type": "code",
   "execution_count": 12,
   "metadata": {},
   "outputs": [
    {
     "name": "stdout",
     "output_type": "stream",
     "text": [
      "WARNING:tensorflow:From C:\\Users\\ABC\\Anaconda3\\lib\\site-packages\\tensorflow_core\\python\\ops\\resource_variable_ops.py:1630: calling BaseResourceVariable.__init__ (from tensorflow.python.ops.resource_variable_ops) with constraint is deprecated and will be removed in a future version.\n",
      "Instructions for updating:\n",
      "If using Keras pass *_constraint arguments to layers.\n"
     ]
    }
   ],
   "source": [
    "model = Sequential([\n",
    "    Conv2D(16, 3, padding='same', activation='relu', input_shape=(IMG_HEIGHT, IMG_WIDTH ,3)),\n",
    "    MaxPooling2D(),\n",
    "    Conv2D(32, 3, padding='same', activation='relu'),\n",
    "    MaxPooling2D(),\n",
    "    Conv2D(64, 3, padding='same', activation='relu'),\n",
    "    MaxPooling2D(),\n",
    "    Flatten(),\n",
    "    Dense(512, activation='relu'),\n",
    "    Dense(1, activation='sigmoid')\n",
    "])"
   ]
  },
  {
   "cell_type": "code",
   "execution_count": 13,
   "metadata": {},
   "outputs": [
    {
     "name": "stdout",
     "output_type": "stream",
     "text": [
      "WARNING:tensorflow:From C:\\Users\\ABC\\Anaconda3\\lib\\site-packages\\tensorflow_core\\python\\ops\\nn_impl.py:183: where (from tensorflow.python.ops.array_ops) is deprecated and will be removed in a future version.\n",
      "Instructions for updating:\n",
      "Use tf.where in 2.0, which has the same broadcast rule as np.where\n",
      "Model: \"sequential\"\n",
      "_________________________________________________________________\n",
      "Layer (type)                 Output Shape              Param #   \n",
      "=================================================================\n",
      "conv2d (Conv2D)              (None, 224, 224, 16)      448       \n",
      "_________________________________________________________________\n",
      "max_pooling2d (MaxPooling2D) (None, 112, 112, 16)      0         \n",
      "_________________________________________________________________\n",
      "conv2d_1 (Conv2D)            (None, 112, 112, 32)      4640      \n",
      "_________________________________________________________________\n",
      "max_pooling2d_1 (MaxPooling2 (None, 56, 56, 32)        0         \n",
      "_________________________________________________________________\n",
      "conv2d_2 (Conv2D)            (None, 56, 56, 64)        18496     \n",
      "_________________________________________________________________\n",
      "max_pooling2d_2 (MaxPooling2 (None, 28, 28, 64)        0         \n",
      "_________________________________________________________________\n",
      "flatten (Flatten)            (None, 50176)             0         \n",
      "_________________________________________________________________\n",
      "dense (Dense)                (None, 512)               25690624  \n",
      "_________________________________________________________________\n",
      "dense_1 (Dense)              (None, 1)                 513       \n",
      "=================================================================\n",
      "Total params: 25,714,721\n",
      "Trainable params: 25,714,721\n",
      "Non-trainable params: 0\n",
      "_________________________________________________________________\n"
     ]
    }
   ],
   "source": [
    "model.compile(optimizer='adam',\n",
    "             loss='binary_crossentropy',\n",
    "             metrics=['accuracy'])\n",
    "model.summary()"
   ]
  },
  {
   "cell_type": "markdown",
   "metadata": {},
   "source": [
    "## Train model"
   ]
  },
  {
   "cell_type": "code",
   "execution_count": 14,
   "metadata": {},
   "outputs": [
    {
     "name": "stdout",
     "output_type": "stream",
     "text": [
      "Epoch 1/20\n"
     ]
    },
    {
     "name": "stderr",
     "output_type": "stream",
     "text": [
      "C:\\Users\\ABC\\Anaconda3\\lib\\site-packages\\PIL\\Image.py:968: UserWarning: Palette images with Transparency   expressed in bytes should be converted to RGBA images\n",
      "  ' expressed in bytes should be converted ' +\n"
     ]
    },
    {
     "name": "stdout",
     "output_type": "stream",
     "text": [
      "40/41 [============================>.] - ETA: 1s - loss: 0.8425 - acc: 0.6294Epoch 1/20\n",
      "41/41 [==============================] - 80s 2s/step - loss: 0.8352 - acc: 0.6310 - val_loss: 0.5327 - val_acc: 0.7617\n",
      "Epoch 2/20\n",
      "40/41 [============================>.] - ETA: 1s - loss: 0.4593 - acc: 0.7939Epoch 1/20\n",
      "41/41 [==============================] - 68s 2s/step - loss: 0.4592 - acc: 0.7941 - val_loss: 0.4633 - val_acc: 0.7961\n",
      "Epoch 3/20\n",
      "40/41 [============================>.] - ETA: 1s - loss: 0.4070 - acc: 0.8238Epoch 1/20\n",
      "41/41 [==============================] - 68s 2s/step - loss: 0.4060 - acc: 0.8245 - val_loss: 0.4767 - val_acc: 0.7789\n",
      "Epoch 4/20\n",
      "40/41 [============================>.] - ETA: 1s - loss: 0.3360 - acc: 0.8639Epoch 1/20\n",
      "41/41 [==============================] - 68s 2s/step - loss: 0.3359 - acc: 0.8641 - val_loss: 0.4312 - val_acc: 0.8133\n",
      "Epoch 5/20\n",
      "40/41 [============================>.] - ETA: 1s - loss: 0.2718 - acc: 0.8915Epoch 1/20\n",
      "41/41 [==============================] - 68s 2s/step - loss: 0.2730 - acc: 0.8911 - val_loss: 0.4247 - val_acc: 0.8219\n",
      "Epoch 6/20\n",
      "40/41 [============================>.] - ETA: 1s - loss: 0.2107 - acc: 0.9200Epoch 1/20\n",
      "41/41 [==============================] - 68s 2s/step - loss: 0.2113 - acc: 0.9196 - val_loss: 0.4509 - val_acc: 0.8172\n",
      "Epoch 7/20\n",
      "40/41 [============================>.] - ETA: 1s - loss: 0.1484 - acc: 0.9459Epoch 1/20\n",
      "41/41 [==============================] - 69s 2s/step - loss: 0.1482 - acc: 0.9458 - val_loss: 0.5191 - val_acc: 0.7992\n",
      "Epoch 8/20\n",
      "40/41 [============================>.] - ETA: 1s - loss: 0.1191 - acc: 0.9582Epoch 1/20\n",
      "41/41 [==============================] - 68s 2s/step - loss: 0.1182 - acc: 0.9589 - val_loss: 0.6156 - val_acc: 0.8070\n",
      "Epoch 9/20\n",
      "40/41 [============================>.] - ETA: 1s - loss: 0.0864 - acc: 0.9736Epoch 1/20\n",
      "41/41 [==============================] - 69s 2s/step - loss: 0.0862 - acc: 0.9735 - val_loss: 0.5372 - val_acc: 0.8227\n",
      "Epoch 10/20\n",
      "40/41 [============================>.] - ETA: 1s - loss: 0.0776 - acc: 0.9740Epoch 1/20\n",
      "41/41 [==============================] - 67s 2s/step - loss: 0.0776 - acc: 0.9739 - val_loss: 0.6901 - val_acc: 0.8070\n",
      "Epoch 11/20\n",
      "40/41 [============================>.] - ETA: 1s - loss: 0.0418 - acc: 0.9881Epoch 1/20\n",
      "41/41 [==============================] - 68s 2s/step - loss: 0.0417 - acc: 0.9880 - val_loss: 0.7444 - val_acc: 0.8117\n",
      "Epoch 12/20\n",
      "40/41 [============================>.] - ETA: 1s - loss: 0.0282 - acc: 0.9904Epoch 1/20\n",
      "41/41 [==============================] - 69s 2s/step - loss: 0.0278 - acc: 0.9907 - val_loss: 0.7487 - val_acc: 0.8266\n",
      "Epoch 13/20\n",
      "40/41 [============================>.] - ETA: 1s - loss: 0.0169 - acc: 0.9966Epoch 1/20\n",
      "41/41 [==============================] - 69s 2s/step - loss: 0.0167 - acc: 0.9967 - val_loss: 0.8379 - val_acc: 0.8188\n",
      "Epoch 14/20\n",
      "40/41 [============================>.] - ETA: 1s - loss: 0.0089 - acc: 0.9992Epoch 1/20\n",
      "41/41 [==============================] - 69s 2s/step - loss: 0.0088 - acc: 0.9992 - val_loss: 0.9013 - val_acc: 0.8164\n",
      "Epoch 15/20\n",
      "40/41 [============================>.] - ETA: 1s - loss: 0.0047 - acc: 0.9994Epoch 1/20\n",
      "41/41 [==============================] - 70s 2s/step - loss: 0.0046 - acc: 0.9994 - val_loss: 0.9436 - val_acc: 0.8203\n",
      "Epoch 16/20\n",
      "40/41 [============================>.] - ETA: 1s - loss: 0.0031 - acc: 0.9998Epoch 1/20\n",
      "41/41 [==============================] - 67s 2s/step - loss: 0.0031 - acc: 0.9998 - val_loss: 1.0189 - val_acc: 0.8242\n",
      "Epoch 17/20\n",
      "40/41 [============================>.] - ETA: 1s - loss: 0.0019 - acc: 1.0000Epoch 1/20\n",
      "41/41 [==============================] - 68s 2s/step - loss: 0.0019 - acc: 1.0000 - val_loss: 1.0722 - val_acc: 0.8109\n",
      "Epoch 18/20\n",
      "40/41 [============================>.] - ETA: 1s - loss: 0.0015 - acc: 1.0000Epoch 1/20\n",
      "41/41 [==============================] - 68s 2s/step - loss: 0.0015 - acc: 1.0000 - val_loss: 1.0823 - val_acc: 0.8188\n",
      "Epoch 19/20\n",
      "40/41 [============================>.] - ETA: 1s - loss: 0.0010 - acc: 1.0000Epoch 1/20\n",
      "41/41 [==============================] - 69s 2s/step - loss: 0.0010 - acc: 1.0000 - val_loss: 1.1300 - val_acc: 0.8219\n",
      "Epoch 20/20\n",
      "40/41 [============================>.] - ETA: 1s - loss: 7.5902e-04 - acc: 1.0000Epoch 1/20\n",
      "41/41 [==============================] - 70s 2s/step - loss: 7.5392e-04 - acc: 1.0000 - val_loss: 1.1461 - val_acc: 0.8195\n"
     ]
    }
   ],
   "source": [
    "history = model.fit_generator(\n",
    "    train_generator,\n",
    "    steps_per_epoch = total_train // batch_size,\n",
    "    epochs = epochs,\n",
    "    validation_data = validation_generator,\n",
    "    validation_steps = total_val // batch_size\n",
    ")"
   ]
  },
  {
   "cell_type": "code",
   "execution_count": 15,
   "metadata": {},
   "outputs": [
    {
     "data": {
      "image/png": "[encoded data removed]",
      "text/plain": [
       "<Figure size 576x576 with 2 Axes>"
      ]
     },
     "metadata": {
      "needs_background": "light"
     },
     "output_type": "display_data"
    }
   ],
   "source": [
    "acc = history.history['acc']\n",
    "val_acc = history.history['val_acc']\n",
    "\n",
    "loss = history.history['loss']\n",
    "val_loss = history.history['val_loss']\n",
    "\n",
    "epochs_range = range(epochs)\n",
    "\n",
    "plt.figure(figsize=(8, 8))\n",
    "plt.subplot(1, 2, 1)\n",
    "plt.plot(epochs_range, acc, label='Train Accuracy')\n",
    "plt.plot(epochs_range, val_acc, label='Validation Accuracy')\n",
    "plt.legend(loc='lower right')\n",
    "plt.title('Training and Validation Accuracy')\n",
    "\n",
    "plt.subplot(1, 2, 2)\n",
    "plt.plot(epochs_range, loss, label='Train Loss')\n",
    "plt.plot(epochs_range, val_loss, label='Validation Loss')\n",
    "plt.legend(loc='lower left')\n",
    "plt.title('Training and Validation Loss')\n",
    "\n",
    "plt.show()"
   ]
  },
  {
   "cell_type": "code",
   "execution_count": null,
   "metadata": {},
   "outputs": [],
   "source": [
    "test_loss, test_acc = model.evaluate(val_img_lab[0],  val_img_lab[1], verbose=2)\n",
    "\n",
    "print('\\nTest accuracy:', test_acc)"
   ]
  },
  {
   "cell_type": "markdown",
   "metadata": {},
   "source": [
    "## Dropout"
   ]
  },
  {
   "cell_type": "code",
   "execution_count": 16,
   "metadata": {},
   "outputs": [
    {
     "name": "stdout",
     "output_type": "stream",
     "text": [
      "Model: \"sequential_1\"\n",
      "_________________________________________________________________\n",
      "Layer (type)                 Output Shape              Param #   \n",
      "=================================================================\n",
      "conv2d_3 (Conv2D)            (None, 224, 224, 16)      448       \n",
      "_________________________________________________________________\n",
      "max_pooling2d_3 (MaxPooling2 (None, 112, 112, 16)      0         \n",
      "_________________________________________________________________\n",
      "conv2d_4 (Conv2D)            (None, 112, 112, 32)      4640      \n",
      "_________________________________________________________________\n",
      "max_pooling2d_4 (MaxPooling2 (None, 56, 56, 32)        0         \n",
      "_________________________________________________________________\n",
      "conv2d_5 (Conv2D)            (None, 56, 56, 64)        18496     \n",
      "_________________________________________________________________\n",
      "max_pooling2d_5 (MaxPooling2 (None, 28, 28, 64)        0         \n",
      "_________________________________________________________________\n",
      "dropout (Dropout)            (None, 28, 28, 64)        0         \n",
      "_________________________________________________________________\n",
      "flatten_1 (Flatten)          (None, 50176)             0         \n",
      "_________________________________________________________________\n",
      "dense_2 (Dense)              (None, 512)               25690624  \n",
      "_________________________________________________________________\n",
      "dense_3 (Dense)              (None, 1)                 513       \n",
      "=================================================================\n",
      "Total params: 25,714,721\n",
      "Trainable params: 25,714,721\n",
      "Non-trainable params: 0\n",
      "_________________________________________________________________\n"
     ]
    }
   ],
   "source": [
    "model_1 = Sequential([\n",
    "    Conv2D(16, 3, padding='same', activation='relu', input_shape=(IMG_HEIGHT, IMG_WIDTH ,3)),\n",
    "    MaxPooling2D(),\n",
    "    Conv2D(32, 3, padding='same', activation='relu'),\n",
    "    MaxPooling2D(),\n",
    "    Conv2D(64, 3, padding='same', activation='relu'),\n",
    "    MaxPooling2D(),\n",
    "    Dropout(0.5),\n",
    "    Flatten(),\n",
    "    Dense(512, activation='relu'),\n",
    "    Dense(1, activation='sigmoid')\n",
    "])\n",
    "\n",
    "model_1.compile(optimizer='adam',\n",
    "              loss='binary_crossentropy',\n",
    "              metrics=['accuracy'])\n",
    "\n",
    "model_1.summary()"
   ]
  },
  {
   "cell_type": "code",
   "execution_count": 17,
   "metadata": {},
   "outputs": [
    {
     "name": "stdout",
     "output_type": "stream",
     "text": [
      "Epoch 1/20\n",
      " 3/41 [=>............................] - ETA: 1:23 - loss: 2.7887 - acc: 0.4661"
     ]
    },
    {
     "name": "stderr",
     "output_type": "stream",
     "text": [
      "C:\\Users\\ABC\\Anaconda3\\lib\\site-packages\\PIL\\Image.py:968: UserWarning: Palette images with Transparency   expressed in bytes should be converted to RGBA images\n",
      "  ' expressed in bytes should be converted ' +\n"
     ]
    },
    {
     "name": "stdout",
     "output_type": "stream",
     "text": [
      "40/41 [============================>.] - ETA: 1s - loss: 0.8805 - acc: 0.5721Epoch 1/20\n",
      "41/41 [==============================] - 72s 2s/step - loss: 0.8719 - acc: 0.5773 - val_loss: 0.5303 - val_acc: 0.7664\n",
      "Epoch 2/20\n",
      "40/41 [============================>.] - ETA: 1s - loss: 0.4825 - acc: 0.7765Epoch 1/20\n",
      "41/41 [==============================] - 70s 2s/step - loss: 0.4813 - acc: 0.7778 - val_loss: 0.4779 - val_acc: 0.7805\n",
      "Epoch 3/20\n",
      "40/41 [============================>.] - ETA: 1s - loss: 0.4500 - acc: 0.7988Epoch 1/20\n",
      "41/41 [==============================] - 70s 2s/step - loss: 0.4509 - acc: 0.7989 - val_loss: 0.4588 - val_acc: 0.8062\n",
      "Epoch 4/20\n",
      "40/41 [============================>.] - ETA: 1s - loss: 0.3925 - acc: 0.8376Epoch 1/20\n",
      "41/41 [==============================] - 70s 2s/step - loss: 0.3916 - acc: 0.8377 - val_loss: 0.4124 - val_acc: 0.8164\n",
      "Epoch 5/20\n",
      "40/41 [============================>.] - ETA: 1s - loss: 0.3559 - acc: 0.8509Epoch 1/20\n",
      "41/41 [==============================] - 70s 2s/step - loss: 0.3560 - acc: 0.8496 - val_loss: 0.4292 - val_acc: 0.8172\n",
      "Epoch 6/20\n",
      "40/41 [============================>.] - ETA: 1s - loss: 0.2980 - acc: 0.8806Epoch 1/20\n",
      "41/41 [==============================] - 70s 2s/step - loss: 0.2962 - acc: 0.8822 - val_loss: 0.4650 - val_acc: 0.7867\n",
      "Epoch 7/20\n",
      "40/41 [============================>.] - ETA: 1s - loss: 0.2541 - acc: 0.8991Epoch 1/20\n",
      "41/41 [==============================] - 70s 2s/step - loss: 0.2534 - acc: 0.8995 - val_loss: 0.4799 - val_acc: 0.8078\n",
      "Epoch 8/20\n",
      "40/41 [============================>.] - ETA: 1s - loss: 0.1995 - acc: 0.9196Epoch 1/20\n",
      "41/41 [==============================] - 70s 2s/step - loss: 0.1997 - acc: 0.9191 - val_loss: 0.4454 - val_acc: 0.8266\n",
      "Epoch 9/20\n",
      "40/41 [============================>.] - ETA: 1s - loss: 0.1886 - acc: 0.9252Epoch 1/20\n",
      "41/41 [==============================] - 70s 2s/step - loss: 0.1884 - acc: 0.9247 - val_loss: 0.4827 - val_acc: 0.8250\n",
      "Epoch 10/20\n",
      "40/41 [============================>.] - ETA: 1s - loss: 0.1511 - acc: 0.9403Epoch 1/20\n",
      "41/41 [==============================] - 70s 2s/step - loss: 0.1530 - acc: 0.9398 - val_loss: 0.5020 - val_acc: 0.8141\n",
      "Epoch 11/20\n",
      "40/41 [============================>.] - ETA: 1s - loss: 0.1365 - acc: 0.9461Epoch 1/20\n",
      "41/41 [==============================] - 71s 2s/step - loss: 0.1355 - acc: 0.9460 - val_loss: 0.5274 - val_acc: 0.8313\n",
      "Epoch 12/20\n",
      "40/41 [============================>.] - ETA: 1s - loss: 0.0951 - acc: 0.9656Epoch 1/20\n",
      "41/41 [==============================] - 71s 2s/step - loss: 0.0949 - acc: 0.9657 - val_loss: 0.5520 - val_acc: 0.8188\n",
      "Epoch 13/20\n",
      "40/41 [============================>.] - ETA: 1s - loss: 0.0959 - acc: 0.9623Epoch 1/20\n",
      "41/41 [==============================] - 69s 2s/step - loss: 0.0950 - acc: 0.9626 - val_loss: 0.5281 - val_acc: 0.8500\n",
      "Epoch 14/20\n",
      "40/41 [============================>.] - ETA: 1s - loss: 0.0808 - acc: 0.9693Epoch 1/20\n",
      "41/41 [==============================] - 70s 2s/step - loss: 0.0809 - acc: 0.9693 - val_loss: 0.6530 - val_acc: 0.8086\n",
      "Epoch 15/20\n",
      "40/41 [============================>.] - ETA: 1s - loss: 0.0741 - acc: 0.9705Epoch 1/20\n",
      "41/41 [==============================] - 71s 2s/step - loss: 0.0731 - acc: 0.9710 - val_loss: 0.5789 - val_acc: 0.8438\n",
      "Epoch 16/20\n",
      "40/41 [============================>.] - ETA: 1s - loss: 0.0612 - acc: 0.9769Epoch 1/20\n",
      "41/41 [==============================] - 69s 2s/step - loss: 0.0604 - acc: 0.9771 - val_loss: 0.5645 - val_acc: 0.8484\n",
      "Epoch 17/20\n",
      "40/41 [============================>.] - ETA: 1s - loss: 0.0499 - acc: 0.9825Epoch 1/20\n",
      "41/41 [==============================] - 70s 2s/step - loss: 0.0499 - acc: 0.9825 - val_loss: 0.5998 - val_acc: 0.8320\n",
      "Epoch 18/20\n",
      "40/41 [============================>.] - ETA: 1s - loss: 0.0434 - acc: 0.9843Epoch 1/20\n",
      "41/41 [==============================] - 70s 2s/step - loss: 0.0459 - acc: 0.9835 - val_loss: 0.7173 - val_acc: 0.8383\n",
      "Epoch 19/20\n",
      "40/41 [============================>.] - ETA: 1s - loss: 0.0661 - acc: 0.9765Epoch 1/20\n",
      "41/41 [==============================] - 70s 2s/step - loss: 0.0652 - acc: 0.9771 - val_loss: 0.6598 - val_acc: 0.8289\n",
      "Epoch 20/20\n",
      "40/41 [============================>.] - ETA: 1s - loss: 0.0435 - acc: 0.9854Epoch 1/20\n",
      "41/41 [==============================] - 71s 2s/step - loss: 0.0427 - acc: 0.9857 - val_loss: 0.6403 - val_acc: 0.8445\n"
     ]
    }
   ],
   "source": [
    "history = model_1.fit_generator(\n",
    "    train_generator,\n",
    "    steps_per_epoch=total_train // batch_size,\n",
    "    epochs=epochs,\n",
    "    validation_data=validation_generator,\n",
    "    validation_steps=total_val // batch_size\n",
    ")"
   ]
  },
  {
   "cell_type": "code",
   "execution_count": 18,
   "metadata": {},
   "outputs": [
    {
     "data": {
      "image/png": "[encoded data removed]",
      "text/plain": [
       "<Figure size 576x576 with 2 Axes>"
      ]
     },
     "metadata": {
      "needs_background": "light"
     },
     "output_type": "display_data"
    }
   ],
   "source": [
    "acc = history.history['acc']\n",
    "val_acc = history.history['val_acc']\n",
    "\n",
    "loss = history.history['loss']\n",
    "val_loss = history.history['val_loss']\n",
    "\n",
    "epochs_range = range(epochs)\n",
    "\n",
    "plt.figure(figsize=(8, 8))\n",
    "plt.subplot(1, 2, 1)\n",
    "plt.plot(epochs_range, acc, label='Train Accuracy')\n",
    "plt.plot(epochs_range, val_acc, label='Validation Accuracy')\n",
    "plt.legend(loc='lower right')\n",
    "plt.title('Training and Validation Accuracy')\n",
    "\n",
    "plt.subplot(1, 2, 2)\n",
    "plt.plot(epochs_range, loss, label='Train Loss')\n",
    "plt.plot(epochs_range, val_loss, label='Validation Loss')\n",
    "plt.legend(loc='lower left')\n",
    "plt.title('Training and Validation Loss')\n",
    "\n",
    "plt.show()"
   ]
  },
  {
   "cell_type": "code",
   "execution_count": 19,
   "metadata": {},
   "outputs": [
    {
     "name": "stdout",
     "output_type": "stream",
     "text": [
      "WARNING:tensorflow:Large dropout rate: 0.7 (>0.5). In TensorFlow 2.x, dropout() uses dropout rate instead of keep_prob. Please ensure that this is intended.\n",
      "Model: \"sequential_2\"\n",
      "_________________________________________________________________\n",
      "Layer (type)                 Output Shape              Param #   \n",
      "=================================================================\n",
      "conv2d_6 (Conv2D)            (None, 224, 224, 16)      448       \n",
      "_________________________________________________________________\n",
      "max_pooling2d_6 (MaxPooling2 (None, 112, 112, 16)      0         \n",
      "_________________________________________________________________\n",
      "conv2d_7 (Conv2D)            (None, 112, 112, 32)      4640      \n",
      "_________________________________________________________________\n",
      "max_pooling2d_7 (MaxPooling2 (None, 56, 56, 32)        0         \n",
      "_________________________________________________________________\n",
      "conv2d_8 (Conv2D)            (None, 56, 56, 64)        18496     \n",
      "_________________________________________________________________\n",
      "max_pooling2d_8 (MaxPooling2 (None, 28, 28, 64)        0         \n",
      "_________________________________________________________________\n",
      "dropout_1 (Dropout)          (None, 28, 28, 64)        0         \n",
      "_________________________________________________________________\n",
      "flatten_2 (Flatten)          (None, 50176)             0         \n",
      "_________________________________________________________________\n",
      "dense_4 (Dense)              (None, 512)               25690624  \n",
      "_________________________________________________________________\n",
      "dropout_2 (Dropout)          (None, 512)               0         \n",
      "_________________________________________________________________\n",
      "dense_5 (Dense)              (None, 1)                 513       \n",
      "=================================================================\n",
      "Total params: 25,714,721\n",
      "Trainable params: 25,714,721\n",
      "Non-trainable params: 0\n",
      "_________________________________________________________________\n"
     ]
    }
   ],
   "source": [
    "model_2 = Sequential([\n",
    "    Conv2D(16, 3, padding='same', activation='relu', input_shape=(IMG_HEIGHT, IMG_WIDTH ,3)),\n",
    "    MaxPooling2D(),\n",
    "    Conv2D(32, 3, padding='same', activation='relu'),\n",
    "    MaxPooling2D(),\n",
    "    Conv2D(64, 3, padding='same', activation='relu'),\n",
    "    MaxPooling2D(),\n",
    "    Dropout(0.5),\n",
    "    Flatten(),\n",
    "    Dense(512, activation='relu'),\n",
    "    Dropout(0.7),\n",
    "    Dense(1, activation='sigmoid')\n",
    "])\n",
    "\n",
    "model_2.compile(optimizer='adam',\n",
    "              loss='binary_crossentropy',\n",
    "              metrics=['accuracy'])\n",
    "\n",
    "model_2.summary()"
   ]
  },
  {
   "cell_type": "code",
   "execution_count": 20,
   "metadata": {},
   "outputs": [
    {
     "name": "stdout",
     "output_type": "stream",
     "text": [
      "Epoch 1/20\n",
      "12/41 [=======>......................] - ETA: 50s - loss: 0.9884 - acc: 0.5215"
     ]
    },
    {
     "name": "stderr",
     "output_type": "stream",
     "text": [
      "C:\\Users\\ABC\\Anaconda3\\lib\\site-packages\\PIL\\Image.py:968: UserWarning: Palette images with Transparency   expressed in bytes should be converted to RGBA images\n",
      "  ' expressed in bytes should be converted ' +\n"
     ]
    },
    {
     "name": "stdout",
     "output_type": "stream",
     "text": [
      "40/41 [============================>.] - ETA: 1s - loss: 0.7180 - acc: 0.6208Epoch 1/20\n",
      "41/41 [==============================] - 71s 2s/step - loss: 0.7134 - acc: 0.6238 - val_loss: 0.5281 - val_acc: 0.7477\n",
      "Epoch 2/20\n",
      "40/41 [============================>.] - ETA: 1s - loss: 0.5164 - acc: 0.7621Epoch 1/20\n",
      "41/41 [==============================] - 69s 2s/step - loss: 0.5160 - acc: 0.7620 - val_loss: 0.5081 - val_acc: 0.7352\n",
      "Epoch 3/20\n",
      "40/41 [============================>.] - ETA: 1s - loss: 0.4488 - acc: 0.8020Epoch 1/20\n",
      "41/41 [==============================] - 69s 2s/step - loss: 0.4503 - acc: 0.8016 - val_loss: 0.4789 - val_acc: 0.7578\n",
      "Epoch 4/20\n",
      "40/41 [============================>.] - ETA: 1s - loss: 0.4007 - acc: 0.8324Epoch 1/20\n",
      "41/41 [==============================] - 70s 2s/step - loss: 0.3997 - acc: 0.8329 - val_loss: 0.4043 - val_acc: 0.8281\n",
      "Epoch 5/20\n",
      "40/41 [============================>.] - ETA: 1s - loss: 0.3686 - acc: 0.8459Epoch 1/20\n",
      "41/41 [==============================] - 70s 2s/step - loss: 0.3708 - acc: 0.8453 - val_loss: 0.4167 - val_acc: 0.8211\n",
      "Epoch 6/20\n",
      "40/41 [============================>.] - ETA: 1s - loss: 0.3303 - acc: 0.8611Epoch 1/20\n",
      "41/41 [==============================] - 70s 2s/step - loss: 0.3291 - acc: 0.8620 - val_loss: 0.3963 - val_acc: 0.8344\n",
      "Epoch 7/20\n",
      "40/41 [============================>.] - ETA: 1s - loss: 0.3026 - acc: 0.8750Epoch 1/20\n",
      "41/41 [==============================] - 80s 2s/step - loss: 0.3020 - acc: 0.8754 - val_loss: 0.4398 - val_acc: 0.8055\n",
      "Epoch 8/20\n",
      "40/41 [============================>.] - ETA: 1s - loss: 0.2578 - acc: 0.9001Epoch 1/20\n",
      "41/41 [==============================] - 72s 2s/step - loss: 0.2586 - acc: 0.8991 - val_loss: 0.3803 - val_acc: 0.8375\n",
      "Epoch 9/20\n",
      "40/41 [============================>.] - ETA: 1s - loss: 0.2313 - acc: 0.9066Epoch 1/20\n",
      "41/41 [==============================] - 71s 2s/step - loss: 0.2309 - acc: 0.9072 - val_loss: 0.3603 - val_acc: 0.8523\n",
      "Epoch 10/20\n",
      "40/41 [============================>.] - ETA: 1s - loss: 0.1962 - acc: 0.9218Epoch 1/20\n",
      "41/41 [==============================] - 70s 2s/step - loss: 0.1944 - acc: 0.9227 - val_loss: 0.3726 - val_acc: 0.8508\n",
      "Epoch 11/20\n",
      "40/41 [============================>.] - ETA: 1s - loss: 0.1763 - acc: 0.9313Epoch 1/20\n",
      "41/41 [==============================] - 70s 2s/step - loss: 0.1778 - acc: 0.9307 - val_loss: 0.3950 - val_acc: 0.8531\n",
      "Epoch 12/20\n",
      "40/41 [============================>.] - ETA: 1s - loss: 0.1564 - acc: 0.9391Epoch 1/20\n",
      "41/41 [==============================] - 70s 2s/step - loss: 0.1559 - acc: 0.9392 - val_loss: 0.4287 - val_acc: 0.8453\n",
      "Epoch 13/20\n",
      "40/41 [============================>.] - ETA: 1s - loss: 0.1425 - acc: 0.9475Epoch 1/20\n",
      "41/41 [==============================] - 71s 2s/step - loss: 0.1412 - acc: 0.9478 - val_loss: 0.4284 - val_acc: 0.8539\n",
      "Epoch 14/20\n",
      "40/41 [============================>.] - ETA: 1s - loss: 0.1053 - acc: 0.9610Epoch 1/20\n",
      "41/41 [==============================] - 69s 2s/step - loss: 0.1043 - acc: 0.9616 - val_loss: 0.4852 - val_acc: 0.8367\n",
      "Epoch 15/20\n",
      "40/41 [============================>.] - ETA: 1s - loss: 0.1068 - acc: 0.9605Epoch 1/20\n",
      "41/41 [==============================] - 71s 2s/step - loss: 0.1059 - acc: 0.9609 - val_loss: 0.4224 - val_acc: 0.8609\n",
      "Epoch 16/20\n",
      "40/41 [============================>.] - ETA: 1s - loss: 0.0865 - acc: 0.9709Epoch 1/20\n",
      "41/41 [==============================] - 70s 2s/step - loss: 0.0855 - acc: 0.9715 - val_loss: 0.4813 - val_acc: 0.8578\n",
      "Epoch 17/20\n",
      "40/41 [============================>.] - ETA: 1s - loss: 0.0809 - acc: 0.9746Epoch 1/20\n",
      "41/41 [==============================] - 69s 2s/step - loss: 0.0815 - acc: 0.9743 - val_loss: 0.5371 - val_acc: 0.8297\n",
      "Epoch 18/20\n",
      "40/41 [============================>.] - ETA: 1s - loss: 0.0682 - acc: 0.9762Epoch 1/20\n",
      "41/41 [==============================] - 71s 2s/step - loss: 0.0687 - acc: 0.9762 - val_loss: 0.5113 - val_acc: 0.8477\n",
      "Epoch 19/20\n",
      "40/41 [============================>.] - ETA: 1s - loss: 0.0613 - acc: 0.9779Epoch 1/20\n",
      "41/41 [==============================] - 69s 2s/step - loss: 0.0605 - acc: 0.9784 - val_loss: 0.6213 - val_acc: 0.8523\n",
      "Epoch 20/20\n",
      "40/41 [============================>.] - ETA: 1s - loss: 0.0672 - acc: 0.9777Epoch 1/20\n",
      "41/41 [==============================] - 70s 2s/step - loss: 0.0664 - acc: 0.9779 - val_loss: 0.5157 - val_acc: 0.8398\n"
     ]
    }
   ],
   "source": [
    "history = model_2.fit_generator(\n",
    "    train_generator,\n",
    "    steps_per_epoch=total_train // batch_size,\n",
    "    epochs=epochs,\n",
    "    validation_data=validation_generator,\n",
    "    validation_steps=total_val // batch_size\n",
    ")"
   ]
  },
  {
   "cell_type": "code",
   "execution_count": 21,
   "metadata": {},
   "outputs": [
    {
     "data": {
      "image/png": "[encoded data removed]",
      "text/plain": [
       "<Figure size 576x576 with 2 Axes>"
      ]
     },
     "metadata": {
      "needs_background": "light"
     },
     "output_type": "display_data"
    }
   ],
   "source": [
    "acc = history.history['acc']\n",
    "val_acc = history.history['val_acc']\n",
    "\n",
    "loss = history.history['loss']\n",
    "val_loss = history.history['val_loss']\n",
    "\n",
    "epochs_range = range(epochs)\n",
    "\n",
    "plt.figure(figsize=(8, 8))\n",
    "plt.subplot(1, 2, 1)\n",
    "plt.plot(epochs_range, acc, label='Train Accuracy')\n",
    "plt.plot(epochs_range, val_acc, label='Validation Accuracy')\n",
    "plt.legend(loc='lower right')\n",
    "plt.title('Training and Validation Accuracy')\n",
    "\n",
    "plt.subplot(1, 2, 2)\n",
    "plt.plot(epochs_range, loss, label='Train Loss')\n",
    "plt.plot(epochs_range, val_loss, label='Validation Loss')\n",
    "plt.legend(loc='lower left')\n",
    "plt.title('Training and Validation Loss')\n",
    "\n",
    "plt.show()"
   ]
  },
  {
   "cell_type": "code",
   "execution_count": 18,
   "metadata": {},
   "outputs": [
    {
     "name": "stdout",
     "output_type": "stream",
     "text": [
      "WARNING:tensorflow:Large dropout rate: 0.7 (>0.5). In TensorFlow 2.x, dropout() uses dropout rate instead of keep_prob. Please ensure that this is intended.\n",
      "WARNING:tensorflow:Large dropout rate: 0.8 (>0.5). In TensorFlow 2.x, dropout() uses dropout rate instead of keep_prob. Please ensure that this is intended.\n",
      "Model: \"sequential_1\"\n",
      "_________________________________________________________________\n",
      "Layer (type)                 Output Shape              Param #   \n",
      "=================================================================\n",
      "conv2d_3 (Conv2D)            (None, 224, 224, 16)      448       \n",
      "_________________________________________________________________\n",
      "max_pooling2d_3 (MaxPooling2 (None, 112, 112, 16)      0         \n",
      "_________________________________________________________________\n",
      "conv2d_4 (Conv2D)            (None, 112, 112, 32)      4640      \n",
      "_________________________________________________________________\n",
      "max_pooling2d_4 (MaxPooling2 (None, 56, 56, 32)        0         \n",
      "_________________________________________________________________\n",
      "conv2d_5 (Conv2D)            (None, 56, 56, 64)        18496     \n",
      "_________________________________________________________________\n",
      "max_pooling2d_5 (MaxPooling2 (None, 28, 28, 64)        0         \n",
      "_________________________________________________________________\n",
      "dropout_2 (Dropout)          (None, 28, 28, 64)        0         \n",
      "_________________________________________________________________\n",
      "flatten_1 (Flatten)          (None, 50176)             0         \n",
      "_________________________________________________________________\n",
      "dense_2 (Dense)              (None, 512)               25690624  \n",
      "_________________________________________________________________\n",
      "dropout_3 (Dropout)          (None, 512)               0         \n",
      "_________________________________________________________________\n",
      "dense_3 (Dense)              (None, 256)               131328    \n",
      "_________________________________________________________________\n",
      "dropout_4 (Dropout)          (None, 256)               0         \n",
      "_________________________________________________________________\n",
      "dense_4 (Dense)              (None, 1)                 257       \n",
      "=================================================================\n",
      "Total params: 25,845,793\n",
      "Trainable params: 25,845,793\n",
      "Non-trainable params: 0\n",
      "_________________________________________________________________\n"
     ]
    }
   ],
   "source": [
    "model_3 = Sequential([\n",
    "    Conv2D(16, 3, padding='same', activation='relu', input_shape=(IMG_HEIGHT, IMG_WIDTH ,3)),\n",
    "    MaxPooling2D(),\n",
    "    Conv2D(32, 3, padding='same', activation='relu'),\n",
    "    MaxPooling2D(),\n",
    "    Conv2D(64, 3, padding='same', activation='relu'),\n",
    "    MaxPooling2D(),\n",
    "    Dropout(0.5),\n",
    "    Flatten(),\n",
    "    Dense(512, activation='relu'),\n",
    "    Dropout(0.7),\n",
    "    Dense(256, activation='relu'),\n",
    "    Dropout(0.8),\n",
    "    Dense(1, activation='sigmoid')\n",
    "])\n",
    "\n",
    "model_3.compile(optimizer='adam',\n",
    "              loss='binary_crossentropy',\n",
    "              metrics=['accuracy'])\n",
    "\n",
    "model_3.summary()"
   ]
  },
  {
   "cell_type": "code",
   "execution_count": 19,
   "metadata": {
    "scrolled": false
   },
   "outputs": [
    {
     "name": "stdout",
     "output_type": "stream",
     "text": [
      "Epoch 1/20\n",
      "39/40 [============================>.] - ETA: 2s - loss: 0.7670 - acc: 0.5392Epoch 1/20\n",
      " 5/40 [==>...........................] - ETA: 41s - loss: 0.6368 - acc: 0.6313"
     ]
    },
    {
     "name": "stderr",
     "output_type": "stream",
     "text": [
      "C:\\Users\\ABC\\Anaconda3\\lib\\site-packages\\PIL\\Image.py:968: UserWarning: Palette images with Transparency   expressed in bytes should be converted to RGBA images\n",
      "  ' expressed in bytes should be converted ' +\n"
     ]
    },
    {
     "name": "stdout",
     "output_type": "stream",
     "text": [
      "40/40 [==============================] - 115s 3s/step - loss: 0.7632 - acc: 0.5449 - val_loss: 0.6351 - val_acc: 0.6383\n",
      "Epoch 2/20\n",
      "39/40 [============================>.] - ETA: 2s - loss: 0.5953 - acc: 0.7105Epoch 1/20\n",
      "40/40 [==============================] - 102s 3s/step - loss: 0.5949 - acc: 0.7107 - val_loss: 0.4918 - val_acc: 0.7922\n",
      "Epoch 3/20\n",
      "39/40 [============================>.] - ETA: 2s - loss: 0.5182 - acc: 0.7656Epoch 1/20\n",
      "40/40 [==============================] - 102s 3s/step - loss: 0.5164 - acc: 0.7671 - val_loss: 0.4714 - val_acc: 0.7797\n",
      "Epoch 4/20\n",
      "39/40 [============================>.] - ETA: 2s - loss: 0.4792 - acc: 0.7873Epoch 1/20\n",
      "40/40 [==============================] - 102s 3s/step - loss: 0.4784 - acc: 0.7881 - val_loss: 0.4489 - val_acc: 0.8000\n",
      "Epoch 5/20\n",
      "39/40 [============================>.] - ETA: 2s - loss: 0.4530 - acc: 0.8140Epoch 1/20\n",
      "40/40 [==============================] - 102s 3s/step - loss: 0.4552 - acc: 0.8138 - val_loss: 0.4341 - val_acc: 0.7977\n",
      "Epoch 6/20\n",
      "39/40 [============================>.] - ETA: 2s - loss: 0.4388 - acc: 0.8160Epoch 1/20\n",
      "40/40 [==============================] - 104s 3s/step - loss: 0.4379 - acc: 0.8165 - val_loss: 0.4169 - val_acc: 0.8172\n",
      "Epoch 7/20\n",
      "39/40 [============================>.] - ETA: 2s - loss: 0.3908 - acc: 0.8323Epoch 1/20\n",
      "40/40 [==============================] - 102s 3s/step - loss: 0.3883 - acc: 0.8336 - val_loss: 0.3989 - val_acc: 0.8250\n",
      "Epoch 8/20\n",
      "39/40 [============================>.] - ETA: 2s - loss: 0.3521 - acc: 0.8605Epoch 1/20\n",
      "40/40 [==============================] - 102s 3s/step - loss: 0.3526 - acc: 0.8607 - val_loss: 0.4210 - val_acc: 0.8141\n",
      "Epoch 9/20\n",
      "17/40 [===========>..................] - ETA: 52s - loss: 0.3331 - acc: 0.8640"
     ]
    },
    {
     "ename": "KeyboardInterrupt",
     "evalue": "",
     "output_type": "error",
     "traceback": [
      "\u001b[1;31m---------------------------------------------------------------------------\u001b[0m",
      "\u001b[1;31mKeyboardInterrupt\u001b[0m                         Traceback (most recent call last)",
      "\u001b[1;32m<ipython-input-19-c0781ce3785e>\u001b[0m in \u001b[0;36m<module>\u001b[1;34m\u001b[0m\n\u001b[0;32m      4\u001b[0m     \u001b[0mepochs\u001b[0m\u001b[1;33m=\u001b[0m\u001b[0mepochs\u001b[0m\u001b[1;33m,\u001b[0m\u001b[1;33m\u001b[0m\u001b[1;33m\u001b[0m\u001b[0m\n\u001b[0;32m      5\u001b[0m     \u001b[0mvalidation_data\u001b[0m\u001b[1;33m=\u001b[0m\u001b[0mvalidation_generator\u001b[0m\u001b[1;33m,\u001b[0m\u001b[1;33m\u001b[0m\u001b[1;33m\u001b[0m\u001b[0m\n\u001b[1;32m----> 6\u001b[1;33m     \u001b[0mvalidation_steps\u001b[0m\u001b[1;33m=\u001b[0m\u001b[0mtotal_val\u001b[0m \u001b[1;33m//\u001b[0m \u001b[0mbatch_size\u001b[0m\u001b[1;33m\u001b[0m\u001b[1;33m\u001b[0m\u001b[0m\n\u001b[0m\u001b[0;32m      7\u001b[0m )\n",
      "\u001b[1;32m~\\Anaconda3\\lib\\site-packages\\tensorflow_core\\python\\keras\\engine\\training.py\u001b[0m in \u001b[0;36mfit_generator\u001b[1;34m(self, generator, steps_per_epoch, epochs, verbose, callbacks, validation_data, validation_steps, validation_freq, class_weight, max_queue_size, workers, use_multiprocessing, shuffle, initial_epoch)\u001b[0m\n\u001b[0;32m   1294\u001b[0m         \u001b[0mshuffle\u001b[0m\u001b[1;33m=\u001b[0m\u001b[0mshuffle\u001b[0m\u001b[1;33m,\u001b[0m\u001b[1;33m\u001b[0m\u001b[1;33m\u001b[0m\u001b[0m\n\u001b[0;32m   1295\u001b[0m         \u001b[0minitial_epoch\u001b[0m\u001b[1;33m=\u001b[0m\u001b[0minitial_epoch\u001b[0m\u001b[1;33m,\u001b[0m\u001b[1;33m\u001b[0m\u001b[1;33m\u001b[0m\u001b[0m\n\u001b[1;32m-> 1296\u001b[1;33m         steps_name='steps_per_epoch')\n\u001b[0m\u001b[0;32m   1297\u001b[0m \u001b[1;33m\u001b[0m\u001b[0m\n\u001b[0;32m   1298\u001b[0m   def evaluate_generator(self,\n",
      "\u001b[1;32m~\\Anaconda3\\lib\\site-packages\\tensorflow_core\\python\\keras\\engine\\training_generator.py\u001b[0m in \u001b[0;36mmodel_iteration\u001b[1;34m(model, data, steps_per_epoch, epochs, verbose, callbacks, validation_data, validation_steps, validation_freq, class_weight, max_queue_size, workers, use_multiprocessing, shuffle, initial_epoch, mode, batch_size, steps_name, **kwargs)\u001b[0m\n\u001b[0;32m    263\u001b[0m \u001b[1;33m\u001b[0m\u001b[0m\n\u001b[0;32m    264\u001b[0m       \u001b[0mis_deferred\u001b[0m \u001b[1;33m=\u001b[0m \u001b[1;32mnot\u001b[0m \u001b[0mmodel\u001b[0m\u001b[1;33m.\u001b[0m\u001b[0m_is_compiled\u001b[0m\u001b[1;33m\u001b[0m\u001b[1;33m\u001b[0m\u001b[0m\n\u001b[1;32m--> 265\u001b[1;33m       \u001b[0mbatch_outs\u001b[0m \u001b[1;33m=\u001b[0m \u001b[0mbatch_function\u001b[0m\u001b[1;33m(\u001b[0m\u001b[1;33m*\u001b[0m\u001b[0mbatch_data\u001b[0m\u001b[1;33m)\u001b[0m\u001b[1;33m\u001b[0m\u001b[1;33m\u001b[0m\u001b[0m\n\u001b[0m\u001b[0;32m    266\u001b[0m       \u001b[1;32mif\u001b[0m \u001b[1;32mnot\u001b[0m \u001b[0misinstance\u001b[0m\u001b[1;33m(\u001b[0m\u001b[0mbatch_outs\u001b[0m\u001b[1;33m,\u001b[0m \u001b[0mlist\u001b[0m\u001b[1;33m)\u001b[0m\u001b[1;33m:\u001b[0m\u001b[1;33m\u001b[0m\u001b[1;33m\u001b[0m\u001b[0m\n\u001b[0;32m    267\u001b[0m         \u001b[0mbatch_outs\u001b[0m \u001b[1;33m=\u001b[0m \u001b[1;33m[\u001b[0m\u001b[0mbatch_outs\u001b[0m\u001b[1;33m]\u001b[0m\u001b[1;33m\u001b[0m\u001b[1;33m\u001b[0m\u001b[0m\n",
      "\u001b[1;32m~\\Anaconda3\\lib\\site-packages\\tensorflow_core\\python\\keras\\engine\\training.py\u001b[0m in \u001b[0;36mtrain_on_batch\u001b[1;34m(self, x, y, sample_weight, class_weight, reset_metrics)\u001b[0m\n\u001b[0;32m   1015\u001b[0m       \u001b[0mself\u001b[0m\u001b[1;33m.\u001b[0m\u001b[0m_update_sample_weight_modes\u001b[0m\u001b[1;33m(\u001b[0m\u001b[0msample_weights\u001b[0m\u001b[1;33m=\u001b[0m\u001b[0msample_weights\u001b[0m\u001b[1;33m)\u001b[0m\u001b[1;33m\u001b[0m\u001b[1;33m\u001b[0m\u001b[0m\n\u001b[0;32m   1016\u001b[0m       \u001b[0mself\u001b[0m\u001b[1;33m.\u001b[0m\u001b[0m_make_train_function\u001b[0m\u001b[1;33m(\u001b[0m\u001b[1;33m)\u001b[0m\u001b[1;33m\u001b[0m\u001b[1;33m\u001b[0m\u001b[0m\n\u001b[1;32m-> 1017\u001b[1;33m       \u001b[0moutputs\u001b[0m \u001b[1;33m=\u001b[0m \u001b[0mself\u001b[0m\u001b[1;33m.\u001b[0m\u001b[0mtrain_function\u001b[0m\u001b[1;33m(\u001b[0m\u001b[0mins\u001b[0m\u001b[1;33m)\u001b[0m  \u001b[1;31m# pylint: disable=not-callable\u001b[0m\u001b[1;33m\u001b[0m\u001b[1;33m\u001b[0m\u001b[0m\n\u001b[0m\u001b[0;32m   1018\u001b[0m \u001b[1;33m\u001b[0m\u001b[0m\n\u001b[0;32m   1019\u001b[0m     \u001b[1;32mif\u001b[0m \u001b[0mreset_metrics\u001b[0m\u001b[1;33m:\u001b[0m\u001b[1;33m\u001b[0m\u001b[1;33m\u001b[0m\u001b[0m\n",
      "\u001b[1;32m~\\Anaconda3\\lib\\site-packages\\tensorflow_core\\python\\keras\\backend.py\u001b[0m in \u001b[0;36m__call__\u001b[1;34m(self, inputs)\u001b[0m\n\u001b[0;32m   3474\u001b[0m \u001b[1;33m\u001b[0m\u001b[0m\n\u001b[0;32m   3475\u001b[0m     fetched = self._callable_fn(*array_vals,\n\u001b[1;32m-> 3476\u001b[1;33m                                 run_metadata=self.run_metadata)\n\u001b[0m\u001b[0;32m   3477\u001b[0m     \u001b[0mself\u001b[0m\u001b[1;33m.\u001b[0m\u001b[0m_call_fetch_callbacks\u001b[0m\u001b[1;33m(\u001b[0m\u001b[0mfetched\u001b[0m\u001b[1;33m[\u001b[0m\u001b[1;33m-\u001b[0m\u001b[0mlen\u001b[0m\u001b[1;33m(\u001b[0m\u001b[0mself\u001b[0m\u001b[1;33m.\u001b[0m\u001b[0m_fetches\u001b[0m\u001b[1;33m)\u001b[0m\u001b[1;33m:\u001b[0m\u001b[1;33m]\u001b[0m\u001b[1;33m)\u001b[0m\u001b[1;33m\u001b[0m\u001b[1;33m\u001b[0m\u001b[0m\n\u001b[0;32m   3478\u001b[0m     output_structure = nest.pack_sequence_as(\n",
      "\u001b[1;32m~\\Anaconda3\\lib\\site-packages\\tensorflow_core\\python\\client\\session.py\u001b[0m in \u001b[0;36m__call__\u001b[1;34m(self, *args, **kwargs)\u001b[0m\n\u001b[0;32m   1470\u001b[0m         ret = tf_session.TF_SessionRunCallable(self._session._session,\n\u001b[0;32m   1471\u001b[0m                                                \u001b[0mself\u001b[0m\u001b[1;33m.\u001b[0m\u001b[0m_handle\u001b[0m\u001b[1;33m,\u001b[0m \u001b[0margs\u001b[0m\u001b[1;33m,\u001b[0m\u001b[1;33m\u001b[0m\u001b[1;33m\u001b[0m\u001b[0m\n\u001b[1;32m-> 1472\u001b[1;33m                                                run_metadata_ptr)\n\u001b[0m\u001b[0;32m   1473\u001b[0m         \u001b[1;32mif\u001b[0m \u001b[0mrun_metadata\u001b[0m\u001b[1;33m:\u001b[0m\u001b[1;33m\u001b[0m\u001b[1;33m\u001b[0m\u001b[0m\n\u001b[0;32m   1474\u001b[0m           \u001b[0mproto_data\u001b[0m \u001b[1;33m=\u001b[0m \u001b[0mtf_session\u001b[0m\u001b[1;33m.\u001b[0m\u001b[0mTF_GetBuffer\u001b[0m\u001b[1;33m(\u001b[0m\u001b[0mrun_metadata_ptr\u001b[0m\u001b[1;33m)\u001b[0m\u001b[1;33m\u001b[0m\u001b[1;33m\u001b[0m\u001b[0m\n",
      "\u001b[1;31mKeyboardInterrupt\u001b[0m: "
     ]
    }
   ],
   "source": [
    "history = model_3.fit_generator(\n",
    "    train_generator,\n",
    "    steps_per_epoch=total_train // batch_size,\n",
    "    epochs=epochs,\n",
    "    validation_data=validation_generator,\n",
    "    validation_steps=total_val // batch_size\n",
    ")"
   ]
  },
  {
   "cell_type": "code",
   "execution_count": 11,
   "metadata": {},
   "outputs": [
    {
     "data": {
      "image/png": "[encoded data removed]",
      "text/plain": [
       "<Figure size 576x576 with 2 Axes>"
      ]
     },
     "metadata": {
      "needs_background": "light"
     },
     "output_type": "display_data"
    }
   ],
   "source": [
    "acc = history.history['acc']\n",
    "val_acc = history.history['val_acc']\n",
    "\n",
    "loss = history.history['loss']\n",
    "val_loss = history.history['val_loss']\n",
    "\n",
    "epochs_range = range(epochs)\n",
    "\n",
    "plt.figure(figsize=(8, 8))\n",
    "plt.subplot(1, 2, 1)\n",
    "plt.plot(epochs_range, acc, label='Train Accuracy')\n",
    "plt.plot(epochs_range, val_acc, label='Validation Accuracy')\n",
    "plt.legend(loc='lower right')\n",
    "plt.title('Training and Validation Accuracy')\n",
    "\n",
    "plt.subplot(1, 2, 2)\n",
    "plt.plot(epochs_range, loss, label='Train Loss')\n",
    "plt.plot(epochs_range, val_loss, label='Validation Loss')\n",
    "plt.legend(loc='lower left')\n",
    "plt.title('Training and Validation Loss')\n",
    "\n",
    "plt.show()"
   ]
  },
  {
   "cell_type": "markdown",
   "metadata": {},
   "source": [
    "3*Droupout(0.5, 0.7, 0.8) Epoch 12-13 Train(0.9) Val(0.84)"
   ]
  },
  {
   "cell_type": "code",
   "execution_count": 12,
   "metadata": {},
   "outputs": [
    {
     "name": "stdout",
     "output_type": "stream",
     "text": [
      "WARNING:tensorflow:Large dropout rate: 0.7 (>0.5). In TensorFlow 2.x, dropout() uses dropout rate instead of keep_prob. Please ensure that this is intended.\n",
      "Model: \"sequential_1\"\n",
      "_________________________________________________________________\n",
      "Layer (type)                 Output Shape              Param #   \n",
      "=================================================================\n",
      "conv2d_3 (Conv2D)            (None, 224, 224, 16)      448       \n",
      "_________________________________________________________________\n",
      "max_pooling2d_3 (MaxPooling2 (None, 112, 112, 16)      0         \n",
      "_________________________________________________________________\n",
      "conv2d_4 (Conv2D)            (None, 112, 112, 32)      4640      \n",
      "_________________________________________________________________\n",
      "max_pooling2d_4 (MaxPooling2 (None, 56, 56, 32)        0         \n",
      "_________________________________________________________________\n",
      "conv2d_5 (Conv2D)            (None, 56, 56, 64)        18496     \n",
      "_________________________________________________________________\n",
      "max_pooling2d_5 (MaxPooling2 (None, 28, 28, 64)        0         \n",
      "_________________________________________________________________\n",
      "dropout_3 (Dropout)          (None, 28, 28, 64)        0         \n",
      "_________________________________________________________________\n",
      "flatten_1 (Flatten)          (None, 50176)             0         \n",
      "_________________________________________________________________\n",
      "dense_3 (Dense)              (None, 512)               25690624  \n",
      "_________________________________________________________________\n",
      "dropout_4 (Dropout)          (None, 512)               0         \n",
      "_________________________________________________________________\n",
      "dense_4 (Dense)              (None, 256)               131328    \n",
      "_________________________________________________________________\n",
      "dropout_5 (Dropout)          (None, 256)               0         \n",
      "_________________________________________________________________\n",
      "dense_5 (Dense)              (None, 1)                 257       \n",
      "=================================================================\n",
      "Total params: 25,845,793\n",
      "Trainable params: 25,845,793\n",
      "Non-trainable params: 0\n",
      "_________________________________________________________________\n"
     ]
    }
   ],
   "source": [
    "model_4 = Sequential([\n",
    "    Conv2D(16, 3, padding='same', activation='relu', input_shape=(IMG_HEIGHT, IMG_WIDTH ,3)),\n",
    "    MaxPooling2D(),\n",
    "    Conv2D(32, 3, padding='same', activation='relu'),\n",
    "    MaxPooling2D(),\n",
    "    Conv2D(64, 3, padding='same', activation='relu'),\n",
    "    MaxPooling2D(),\n",
    "    Dropout(0.2),\n",
    "    Flatten(),\n",
    "    Dense(512, activation='relu'),\n",
    "    Dropout(0.5),\n",
    "    Dense(256, activation='relu'),\n",
    "    Dropout(0.7),\n",
    "    Dense(1, activation='sigmoid')\n",
    "])\n",
    "\n",
    "model_4.compile(optimizer='adam',\n",
    "              loss='binary_crossentropy',\n",
    "              metrics=['accuracy'])\n",
    "\n",
    "model_4.summary()"
   ]
  },
  {
   "cell_type": "code",
   "execution_count": 13,
   "metadata": {},
   "outputs": [
    {
     "name": "stdout",
     "output_type": "stream",
     "text": [
      "Epoch 1/20\n",
      " 1/41 [..............................] - ETA: 4:21 - loss: 0.6927 - acc: 0.5078"
     ]
    },
    {
     "name": "stderr",
     "output_type": "stream",
     "text": [
      "C:\\Users\\ABC\\Anaconda3\\lib\\site-packages\\PIL\\Image.py:968: UserWarning: Palette images with Transparency   expressed in bytes should be converted to RGBA images\n",
      "  ' expressed in bytes should be converted ' +\n"
     ]
    },
    {
     "name": "stdout",
     "output_type": "stream",
     "text": [
      "40/41 [============================>.] - ETA: 2s - loss: 0.8006 - acc: 0.5413Epoch 1/20\n",
      "41/41 [==============================] - 109s 3s/step - loss: 0.7977 - acc: 0.5413 - val_loss: 0.6672 - val_acc: 0.6555\n",
      "Epoch 2/20\n",
      "40/41 [============================>.] - ETA: 2s - loss: 0.5816 - acc: 0.7139Epoch 1/20\n",
      "41/41 [==============================] - 90s 2s/step - loss: 0.5782 - acc: 0.7148 - val_loss: 0.5078 - val_acc: 0.7695\n",
      "Epoch 3/20\n",
      "40/41 [============================>.] - ETA: 1s - loss: 0.5014 - acc: 0.7758Epoch 1/20\n",
      "41/41 [==============================] - 85s 2s/step - loss: 0.5006 - acc: 0.7756 - val_loss: 0.4764 - val_acc: 0.7875\n",
      "Epoch 4/20\n",
      "40/41 [============================>.] - ETA: 1s - loss: 0.4626 - acc: 0.7945Epoch 1/20\n",
      "41/41 [==============================] - 78s 2s/step - loss: 0.4649 - acc: 0.7932 - val_loss: 0.5432 - val_acc: 0.7305\n",
      "Epoch 5/20\n",
      "40/41 [============================>.] - ETA: 1s - loss: 0.4398 - acc: 0.8137Epoch 1/20\n",
      "41/41 [==============================] - 83s 2s/step - loss: 0.4372 - acc: 0.8142 - val_loss: 0.4232 - val_acc: 0.8039\n",
      "Epoch 6/20\n",
      "40/41 [============================>.] - ETA: 1s - loss: 0.3845 - acc: 0.8368Epoch 1/20\n",
      "41/41 [==============================] - 88s 2s/step - loss: 0.3846 - acc: 0.8365 - val_loss: 0.4445 - val_acc: 0.8023\n",
      "Epoch 7/20\n",
      "40/41 [============================>.] - ETA: 1s - loss: 0.3277 - acc: 0.8686Epoch 1/20\n",
      "41/41 [==============================] - 83s 2s/step - loss: 0.3283 - acc: 0.8676 - val_loss: 0.4450 - val_acc: 0.8070\n",
      "Epoch 8/20\n",
      "40/41 [============================>.] - ETA: 1s - loss: 0.2762 - acc: 0.8881Epoch 1/20\n",
      "41/41 [==============================] - 87s 2s/step - loss: 0.2769 - acc: 0.8882 - val_loss: 0.4495 - val_acc: 0.8172\n",
      "Epoch 9/20\n",
      "40/41 [============================>.] - ETA: 1s - loss: 0.2452 - acc: 0.9034Epoch 1/20\n",
      "41/41 [==============================] - 86s 2s/step - loss: 0.2458 - acc: 0.9029 - val_loss: 0.4367 - val_acc: 0.8305\n",
      "Epoch 10/20\n",
      "40/41 [============================>.] - ETA: 1s - loss: 0.1978 - acc: 0.9259Epoch 1/20\n",
      "41/41 [==============================] - 84s 2s/step - loss: 0.1971 - acc: 0.9264 - val_loss: 0.4764 - val_acc: 0.8375\n",
      "Epoch 11/20\n",
      "40/41 [============================>.] - ETA: 1s - loss: 0.1728 - acc: 0.9311Epoch 1/20\n",
      "41/41 [==============================] - 81s 2s/step - loss: 0.1714 - acc: 0.9319 - val_loss: 0.5335 - val_acc: 0.8242\n",
      "Epoch 12/20\n",
      "40/41 [============================>.] - ETA: 1s - loss: 0.1269 - acc: 0.9561Epoch 1/20\n",
      "41/41 [==============================] - 88s 2s/step - loss: 0.1266 - acc: 0.9562 - val_loss: 0.5019 - val_acc: 0.8359\n",
      "Epoch 13/20\n",
      "40/41 [============================>.] - ETA: 1s - loss: 0.0885 - acc: 0.9683Epoch 1/20\n",
      "41/41 [==============================] - 82s 2s/step - loss: 0.0877 - acc: 0.9685 - val_loss: 0.5765 - val_acc: 0.8375\n",
      "Epoch 14/20\n",
      "40/41 [============================>.] - ETA: 1s - loss: 0.0766 - acc: 0.9738Epoch 1/20\n",
      "41/41 [==============================] - 88s 2s/step - loss: 0.0769 - acc: 0.9735 - val_loss: 0.5785 - val_acc: 0.8359\n",
      "Epoch 15/20\n",
      "40/41 [============================>.] - ETA: 1s - loss: 0.0581 - acc: 0.9819Epoch 1/20\n",
      "41/41 [==============================] - 88s 2s/step - loss: 0.0580 - acc: 0.9819 - val_loss: 0.8272 - val_acc: 0.8313\n",
      "Epoch 16/20\n",
      "40/41 [============================>.] - ETA: 1s - loss: 0.0587 - acc: 0.9821Epoch 1/20\n",
      "41/41 [==============================] - 81s 2s/step - loss: 0.0584 - acc: 0.9819 - val_loss: 0.6745 - val_acc: 0.8320\n",
      "Epoch 17/20\n",
      "40/41 [============================>.] - ETA: 1s - loss: 0.0600 - acc: 0.9805Epoch 1/20\n",
      "41/41 [==============================] - 78s 2s/step - loss: 0.0592 - acc: 0.9806 - val_loss: 0.7688 - val_acc: 0.8188\n",
      "Epoch 18/20\n",
      "40/41 [============================>.] - ETA: 1s - loss: 0.0435 - acc: 0.9848Epoch 1/20\n",
      "41/41 [==============================] - 83s 2s/step - loss: 0.0439 - acc: 0.9849 - val_loss: 0.8934 - val_acc: 0.8055\n",
      "Epoch 19/20\n",
      "40/41 [============================>.] - ETA: 1s - loss: 0.0357 - acc: 0.9887Epoch 1/20\n",
      "41/41 [==============================] - 79s 2s/step - loss: 0.0356 - acc: 0.9887 - val_loss: 0.8567 - val_acc: 0.8352\n",
      "Epoch 20/20\n",
      "40/41 [============================>.] - ETA: 1s - loss: 0.0225 - acc: 0.9922Epoch 1/20\n",
      "41/41 [==============================] - 81s 2s/step - loss: 0.0224 - acc: 0.9922 - val_loss: 0.9001 - val_acc: 0.8313\n"
     ]
    }
   ],
   "source": [
    "history = model_4.fit_generator(\n",
    "    train_generator,\n",
    "    steps_per_epoch=total_train // batch_size,\n",
    "    epochs=epochs,\n",
    "    validation_data=validation_generator,\n",
    "    validation_steps=total_val // batch_size\n",
    ")"
   ]
  },
  {
   "cell_type": "code",
   "execution_count": 14,
   "metadata": {},
   "outputs": [
    {
     "name": "stdout",
     "output_type": "stream",
     "text": [
      "WARNING:tensorflow:Large dropout rate: 0.7 (>0.5). In TensorFlow 2.x, dropout() uses dropout rate instead of keep_prob. Please ensure that this is intended.\n",
      "WARNING:tensorflow:Large dropout rate: 0.7 (>0.5). In TensorFlow 2.x, dropout() uses dropout rate instead of keep_prob. Please ensure that this is intended.\n",
      "Model: \"sequential_2\"\n",
      "_________________________________________________________________\n",
      "Layer (type)                 Output Shape              Param #   \n",
      "=================================================================\n",
      "conv2d_6 (Conv2D)            (None, 224, 224, 16)      448       \n",
      "_________________________________________________________________\n",
      "max_pooling2d_6 (MaxPooling2 (None, 112, 112, 16)      0         \n",
      "_________________________________________________________________\n",
      "conv2d_7 (Conv2D)            (None, 112, 112, 32)      4640      \n",
      "_________________________________________________________________\n",
      "max_pooling2d_7 (MaxPooling2 (None, 56, 56, 32)        0         \n",
      "_________________________________________________________________\n",
      "conv2d_8 (Conv2D)            (None, 56, 56, 64)        18496     \n",
      "_________________________________________________________________\n",
      "max_pooling2d_8 (MaxPooling2 (None, 28, 28, 64)        0         \n",
      "_________________________________________________________________\n",
      "dropout_6 (Dropout)          (None, 28, 28, 64)        0         \n",
      "_________________________________________________________________\n",
      "flatten_2 (Flatten)          (None, 50176)             0         \n",
      "_________________________________________________________________\n",
      "dense_6 (Dense)              (None, 512)               25690624  \n",
      "_________________________________________________________________\n",
      "dropout_7 (Dropout)          (None, 512)               0         \n",
      "_________________________________________________________________\n",
      "dense_7 (Dense)              (None, 1)                 513       \n",
      "=================================================================\n",
      "Total params: 25,714,721\n",
      "Trainable params: 25,714,721\n",
      "Non-trainable params: 0\n",
      "_________________________________________________________________\n"
     ]
    }
   ],
   "source": [
    "model_5 = Sequential([\n",
    "    Conv2D(16, 3, padding='same', activation='relu', input_shape=(IMG_HEIGHT, IMG_WIDTH ,3)),\n",
    "    MaxPooling2D(),\n",
    "    Conv2D(32, 3, padding='same', activation='relu'),\n",
    "    MaxPooling2D(),\n",
    "    Conv2D(64, 3, padding='same', activation='relu'),\n",
    "    MaxPooling2D(),\n",
    "    Dropout(0.7),\n",
    "    Flatten(),\n",
    "    Dense(512, activation='relu'),\n",
    "    Dropout(0.7),\n",
    "    Dense(1, activation='sigmoid')\n",
    "])\n",
    "\n",
    "model_5.compile(optimizer='adam',\n",
    "              loss='binary_crossentropy',\n",
    "              metrics=['accuracy'])\n",
    "\n",
    "model_5.summary()"
   ]
  },
  {
   "cell_type": "code",
   "execution_count": 15,
   "metadata": {},
   "outputs": [
    {
     "name": "stdout",
     "output_type": "stream",
     "text": [
      "Epoch 1/20\n",
      " 2/41 [>.............................] - ETA: 1:47 - loss: 1.2201 - acc: 0.5078"
     ]
    },
    {
     "name": "stderr",
     "output_type": "stream",
     "text": [
      "C:\\Users\\ABC\\Anaconda3\\lib\\site-packages\\PIL\\Image.py:968: UserWarning: Palette images with Transparency   expressed in bytes should be converted to RGBA images\n",
      "  ' expressed in bytes should be converted ' +\n"
     ]
    },
    {
     "name": "stdout",
     "output_type": "stream",
     "text": [
      "40/41 [============================>.] - ETA: 1s - loss: 0.8240 - acc: 0.6225Epoch 1/20\n",
      "41/41 [==============================] - 80s 2s/step - loss: 0.8175 - acc: 0.6244 - val_loss: 0.5579 - val_acc: 0.7250\n",
      "Epoch 2/20\n",
      "40/41 [============================>.] - ETA: 1s - loss: 0.5000 - acc: 0.7673Epoch 1/20\n",
      "41/41 [==============================] - 88s 2s/step - loss: 0.5033 - acc: 0.7669 - val_loss: 0.5046 - val_acc: 0.7500\n",
      "Epoch 3/20\n",
      "40/41 [============================>.] - ETA: 1s - loss: 0.4704 - acc: 0.7935Epoch 1/20\n",
      "41/41 [==============================] - 87s 2s/step - loss: 0.4707 - acc: 0.7938 - val_loss: 0.4481 - val_acc: 0.7898\n",
      "Epoch 4/20\n",
      "40/41 [============================>.] - ETA: 1s - loss: 0.4198 - acc: 0.8244Epoch 1/20\n",
      "41/41 [==============================] - 81s 2s/step - loss: 0.4187 - acc: 0.8253 - val_loss: 0.4412 - val_acc: 0.8117\n",
      "Epoch 5/20\n",
      "40/41 [============================>.] - ETA: 1s - loss: 0.4099 - acc: 0.8262Epoch 1/20\n",
      "41/41 [==============================] - 92s 2s/step - loss: 0.4095 - acc: 0.8268 - val_loss: 0.4061 - val_acc: 0.8242\n",
      "Epoch 6/20\n",
      "40/41 [============================>.] - ETA: 1s - loss: 0.3766 - acc: 0.8432Epoch 1/20\n",
      "41/41 [==============================] - 95s 2s/step - loss: 0.3767 - acc: 0.8422 - val_loss: 0.3994 - val_acc: 0.8258\n",
      "Epoch 7/20\n",
      "40/41 [============================>.] - ETA: 1s - loss: 0.3352 - acc: 0.8605Epoch 1/20\n",
      "41/41 [==============================] - 89s 2s/step - loss: 0.3371 - acc: 0.8597 - val_loss: 0.3734 - val_acc: 0.8445\n",
      "Epoch 8/20\n",
      "40/41 [============================>.] - ETA: 1s - loss: 0.3399 - acc: 0.8598Epoch 1/20\n",
      "41/41 [==============================] - 83s 2s/step - loss: 0.3392 - acc: 0.8610 - val_loss: 0.3979 - val_acc: 0.8305\n",
      "Epoch 9/20\n",
      "40/41 [============================>.] - ETA: 1s - loss: 0.2909 - acc: 0.8823Epoch 1/20\n",
      "41/41 [==============================] - 89s 2s/step - loss: 0.2935 - acc: 0.8820 - val_loss: 0.3968 - val_acc: 0.8375\n",
      "Epoch 10/20\n",
      "40/41 [============================>.] - ETA: 1s - loss: 0.2763 - acc: 0.8891Epoch 1/20\n",
      "41/41 [==============================] - 84s 2s/step - loss: 0.2768 - acc: 0.8886 - val_loss: 0.4339 - val_acc: 0.8086\n",
      "Epoch 11/20\n",
      "40/41 [============================>.] - ETA: 1s - loss: 0.2488 - acc: 0.9058Epoch 1/20\n",
      "41/41 [==============================] - 80s 2s/step - loss: 0.2478 - acc: 0.9062 - val_loss: 0.3637 - val_acc: 0.8547\n",
      "Epoch 12/20\n",
      "40/41 [============================>.] - ETA: 1s - loss: 0.2471 - acc: 0.9021Epoch 1/20\n",
      "41/41 [==============================] - 85s 2s/step - loss: 0.2461 - acc: 0.9025 - val_loss: 0.3573 - val_acc: 0.8594\n",
      "Epoch 13/20\n",
      "40/41 [============================>.] - ETA: 1s - loss: 0.2334 - acc: 0.9061Epoch 1/20\n",
      "41/41 [==============================] - 85s 2s/step - loss: 0.2323 - acc: 0.9062 - val_loss: 0.3696 - val_acc: 0.8562\n",
      "Epoch 14/20\n",
      "40/41 [============================>.] - ETA: 1s - loss: 0.2191 - acc: 0.9168Epoch 1/20\n",
      "41/41 [==============================] - 83s 2s/step - loss: 0.2178 - acc: 0.9171 - val_loss: 0.3668 - val_acc: 0.8695\n",
      "Epoch 15/20\n",
      "40/41 [============================>.] - ETA: 1s - loss: 0.1727 - acc: 0.9329Epoch 1/20\n",
      "41/41 [==============================] - 92s 2s/step - loss: 0.1738 - acc: 0.9321 - val_loss: 0.3842 - val_acc: 0.8547\n",
      "Epoch 16/20\n",
      "40/41 [============================>.] - ETA: 1s - loss: 0.1892 - acc: 0.9257Epoch 1/20\n",
      "41/41 [==============================] - 81s 2s/step - loss: 0.1903 - acc: 0.9254 - val_loss: 0.3866 - val_acc: 0.8547\n",
      "Epoch 17/20\n",
      "40/41 [============================>.] - ETA: 1s - loss: 0.1633 - acc: 0.9409Epoch 1/20\n",
      "41/41 [==============================] - 82s 2s/step - loss: 0.1623 - acc: 0.9412 - val_loss: 0.3579 - val_acc: 0.8680\n",
      "Epoch 18/20\n",
      "40/41 [============================>.] - ETA: 1s - loss: 0.1382 - acc: 0.9465Epoch 1/20\n",
      "41/41 [==============================] - 88s 2s/step - loss: 0.1393 - acc: 0.9451 - val_loss: 0.3845 - val_acc: 0.8672\n",
      "Epoch 19/20\n",
      "40/41 [============================>.] - ETA: 1s - loss: 0.1365 - acc: 0.9501Epoch 1/20\n",
      "41/41 [==============================] - 95s 2s/step - loss: 0.1355 - acc: 0.9503 - val_loss: 0.4049 - val_acc: 0.8727\n",
      "Epoch 20/20\n",
      "40/41 [============================>.] - ETA: 1s - loss: 0.1320 - acc: 0.9524Epoch 1/20\n",
      "41/41 [==============================] - 97s 2s/step - loss: 0.1315 - acc: 0.9526 - val_loss: 0.4308 - val_acc: 0.8461\n"
     ]
    }
   ],
   "source": [
    "history = model_5.fit_generator(\n",
    "    train_generator,\n",
    "    steps_per_epoch=total_train // batch_size,\n",
    "    epochs=epochs,\n",
    "    validation_data=validation_generator,\n",
    "    validation_steps=total_val // batch_size\n",
    ")"
   ]
  },
  {
   "cell_type": "code",
   "execution_count": 20,
   "metadata": {},
   "outputs": [
    {
     "name": "stdout",
     "output_type": "stream",
     "text": [
      "WARNING:tensorflow:Large dropout rate: 0.8 (>0.5). In TensorFlow 2.x, dropout() uses dropout rate instead of keep_prob. Please ensure that this is intended.\n",
      "Model: \"sequential_2\"\n",
      "_________________________________________________________________\n",
      "Layer (type)                 Output Shape              Param #   \n",
      "=================================================================\n",
      "conv2d_6 (Conv2D)            (None, 224, 224, 16)      448       \n",
      "_________________________________________________________________\n",
      "max_pooling2d_6 (MaxPooling2 (None, 112, 112, 16)      0         \n",
      "_________________________________________________________________\n",
      "conv2d_7 (Conv2D)            (None, 112, 112, 32)      4640      \n",
      "_________________________________________________________________\n",
      "max_pooling2d_7 (MaxPooling2 (None, 56, 56, 32)        0         \n",
      "_________________________________________________________________\n",
      "conv2d_8 (Conv2D)            (None, 56, 56, 64)        18496     \n",
      "_________________________________________________________________\n",
      "max_pooling2d_8 (MaxPooling2 (None, 28, 28, 64)        0         \n",
      "_________________________________________________________________\n",
      "dropout_5 (Dropout)          (None, 28, 28, 64)        0         \n",
      "_________________________________________________________________\n",
      "flatten_2 (Flatten)          (None, 50176)             0         \n",
      "_________________________________________________________________\n",
      "dense_5 (Dense)              (None, 512)               25690624  \n",
      "_________________________________________________________________\n",
      "dropout_6 (Dropout)          (None, 512)               0         \n",
      "_________________________________________________________________\n",
      "dense_6 (Dense)              (None, 1)                 513       \n",
      "=================================================================\n",
      "Total params: 25,714,721\n",
      "Trainable params: 25,714,721\n",
      "Non-trainable params: 0\n",
      "_________________________________________________________________\n"
     ]
    }
   ],
   "source": [
    "model_6 = Sequential([\n",
    "    Conv2D(16, 3, padding='same', activation='relu', input_shape=(IMG_HEIGHT, IMG_WIDTH ,3)),\n",
    "    MaxPooling2D(),\n",
    "    Conv2D(32, 3, padding='same', activation='relu'),\n",
    "    MaxPooling2D(),\n",
    "    Conv2D(64, 3, padding='same', activation='relu'),\n",
    "    MaxPooling2D(),\n",
    "    Dropout(0.8),\n",
    "    Flatten(),\n",
    "    Dense(512, activation='relu'),\n",
    "    Dropout(0.8),\n",
    "    Dense(1, activation='sigmoid')\n",
    "])\n",
    "\n",
    "model_6.compile(optimizer='adam',\n",
    "              loss='binary_crossentropy',\n",
    "              metrics=['accuracy'])\n",
    "\n",
    "model_6.summary()"
   ]
  },
  {
   "cell_type": "code",
   "execution_count": null,
   "metadata": {
    "scrolled": false
   },
   "outputs": [
    {
     "name": "stdout",
     "output_type": "stream",
     "text": [
      "Epoch 1/20\n",
      "39/40 [============================>.] - ETA: 2s - loss: 0.5975 - acc: 0.6747Epoch 1/20\n",
      " 5/40 [==>...........................] - ETA: 58s - loss: 0.5131 - acc: 0.7625"
     ]
    },
    {
     "name": "stderr",
     "output_type": "stream",
     "text": [
      "C:\\Users\\ABC\\Anaconda3\\lib\\site-packages\\PIL\\Image.py:968: UserWarning: Palette images with Transparency   expressed in bytes should be converted to RGBA images\n",
      "  ' expressed in bytes should be converted ' +\n"
     ]
    },
    {
     "name": "stdout",
     "output_type": "stream",
     "text": [
      "40/40 [==============================] - 112s 3s/step - loss: 0.5941 - acc: 0.6785 - val_loss: 0.5050 - val_acc: 0.7625\n",
      "Epoch 2/20\n",
      "39/40 [============================>.] - ETA: 2s - loss: 0.4846 - acc: 0.7760Epoch 1/20\n",
      "40/40 [==============================] - 104s 3s/step - loss: 0.4856 - acc: 0.7768 - val_loss: 0.4593 - val_acc: 0.7875\n",
      "Epoch 3/20\n",
      "39/40 [============================>.] - ETA: 2s - loss: 0.4481 - acc: 0.8020Epoch 1/20\n",
      "40/40 [==============================] - 118s 3s/step - loss: 0.4497 - acc: 0.7999 - val_loss: 0.4504 - val_acc: 0.7992\n",
      "Epoch 4/20\n",
      "39/40 [============================>.] - ETA: 3s - loss: 0.4297 - acc: 0.8174Epoch 1/20\n",
      "40/40 [==============================] - 149s 4s/step - loss: 0.4294 - acc: 0.8180 - val_loss: 0.4189 - val_acc: 0.8211\n",
      "Epoch 5/20\n",
      "39/40 [============================>.] - ETA: 2s - loss: 0.3947 - acc: 0.8307Epoch 1/20\n",
      "40/40 [==============================] - 128s 3s/step - loss: 0.3931 - acc: 0.8324 - val_loss: 0.3918 - val_acc: 0.8359\n",
      "Epoch 6/20\n",
      "19/40 [=============>................] - ETA: 1:09 - loss: 0.3875 - acc: 0.8355"
     ]
    }
   ],
   "source": [
    "history = model_6.fit_generator(\n",
    "    train_generator,\n",
    "    steps_per_epoch=total_train // batch_size,\n",
    "    epochs=epochs,\n",
    "    validation_data=validation_generator,\n",
    "    validation_steps=total_val // batch_size\n",
    ")"
   ]
  },
  {
   "cell_type": "code",
   "execution_count": null,
   "metadata": {},
   "outputs": [],
   "source": [
    "model_7 = Sequential([\n",
    "    Conv2D(16, 3, padding='same', activation='relu', input_shape=(IMG_HEIGHT, IMG_WIDTH ,3)),\n",
    "    MaxPooling2D(),\n",
    "    Conv2D(32, 3, padding='same', activation='relu'),\n",
    "    MaxPooling2D(),\n",
    "    Conv2D(64, 3, padding='same', activation='relu'),\n",
    "    MaxPooling2D(),\n",
    "    Dropout(0.5),\n",
    "    Flatten(),\n",
    "    Dense(256, activation='relu'),\n",
    "    Dropout(0.5),\n",
    "    Dense(1, activation='sigmoid')\n",
    "])\n",
    "\n",
    "model_7.compile(optimizer='adam',\n",
    "              loss='binary_crossentropy',\n",
    "              metrics=['accuracy'])\n",
    "\n",
    "model_7.summary()"
   ]
  },
  {
   "cell_type": "code",
   "execution_count": null,
   "metadata": {},
   "outputs": [],
   "source": [
    "history = model_7.fit_generator(\n",
    "    train_generator,\n",
    "    steps_per_epoch=total_train // batch_size,\n",
    "    epochs=epochs,\n",
    "    validation_data=validation_generator,\n",
    "    validation_steps=total_val // batch_size\n",
    ")"
   ]
  },
  {
   "cell_type": "markdown",
   "metadata": {},
   "source": [
    "## VGG16"
   ]
  },
  {
   "cell_type": "code",
   "execution_count": 11,
   "metadata": {},
   "outputs": [
    {
     "name": "stdout",
     "output_type": "stream",
     "text": [
      "WARNING:tensorflow:From C:\\Users\\ABC\\Anaconda3\\lib\\site-packages\\tensorflow_core\\python\\ops\\nn_impl.py:183: where (from tensorflow.python.ops.array_ops) is deprecated and will be removed in a future version.\n",
      "Instructions for updating:\n",
      "Use tf.where in 2.0, which has the same broadcast rule as np.where\n",
      "Model: \"sequential_2\"\n",
      "_________________________________________________________________\n",
      "Layer (type)                 Output Shape              Param #   \n",
      "=================================================================\n",
      "conv2d_26 (Conv2D)           (None, 224, 224, 64)      1792      \n",
      "_________________________________________________________________\n",
      "conv2d_27 (Conv2D)           (None, 224, 224, 64)      36928     \n",
      "_________________________________________________________________\n",
      "max_pooling2d_10 (MaxPooling (None, 112, 112, 64)      0         \n",
      "_________________________________________________________________\n",
      "conv2d_28 (Conv2D)           (None, 112, 112, 128)     73856     \n",
      "_________________________________________________________________\n",
      "conv2d_29 (Conv2D)           (None, 112, 112, 128)     147584    \n",
      "_________________________________________________________________\n",
      "max_pooling2d_11 (MaxPooling (None, 56, 56, 128)       0         \n",
      "_________________________________________________________________\n",
      "conv2d_30 (Conv2D)           (None, 56, 56, 256)       295168    \n",
      "_________________________________________________________________\n",
      "conv2d_31 (Conv2D)           (None, 56, 56, 256)       590080    \n",
      "_________________________________________________________________\n",
      "conv2d_32 (Conv2D)           (None, 56, 56, 256)       590080    \n",
      "_________________________________________________________________\n",
      "max_pooling2d_12 (MaxPooling (None, 28, 28, 256)       0         \n",
      "_________________________________________________________________\n",
      "conv2d_33 (Conv2D)           (None, 28, 28, 512)       1180160   \n",
      "_________________________________________________________________\n",
      "conv2d_34 (Conv2D)           (None, 28, 28, 512)       2359808   \n",
      "_________________________________________________________________\n",
      "conv2d_35 (Conv2D)           (None, 28, 28, 512)       2359808   \n",
      "_________________________________________________________________\n",
      "max_pooling2d_13 (MaxPooling (None, 14, 14, 512)       0         \n",
      "_________________________________________________________________\n",
      "conv2d_36 (Conv2D)           (None, 14, 14, 512)       2359808   \n",
      "_________________________________________________________________\n",
      "conv2d_37 (Conv2D)           (None, 14, 14, 512)       2359808   \n",
      "_________________________________________________________________\n",
      "conv2d_38 (Conv2D)           (None, 14, 14, 512)       2359808   \n",
      "_________________________________________________________________\n",
      "max_pooling2d_14 (MaxPooling (None, 7, 7, 512)         0         \n",
      "_________________________________________________________________\n",
      "flatten_2 (Flatten)          (None, 25088)             0         \n",
      "_________________________________________________________________\n",
      "dense_8 (Dense)              (None, 4096)              102764544 \n",
      "_________________________________________________________________\n",
      "dense_9 (Dense)              (None, 4096)              16781312  \n",
      "_________________________________________________________________\n",
      "dense_10 (Dense)             (None, 1000)              4097000   \n",
      "_________________________________________________________________\n",
      "dense_11 (Dense)             (None, 1)                 1001      \n",
      "=================================================================\n",
      "Total params: 138,358,545\n",
      "Trainable params: 138,358,545\n",
      "Non-trainable params: 0\n",
      "_________________________________________________________________\n"
     ]
    }
   ],
   "source": [
    "VGG16 = Sequential([\n",
    "    Conv2D(64, 3, padding='same', activation='relu', input_shape=(IMG_HEIGHT, IMG_WIDTH ,3)),\n",
    "    Conv2D(64, 3, padding='same', activation='relu'),\n",
    "    MaxPooling2D(pool_size=(2, 2), strides=(2, 2), padding='same'),\n",
    "    Conv2D(128, 3, padding='same', activation='relu'),\n",
    "    Conv2D(128, 3, padding='same', activation='relu'),\n",
    "    MaxPooling2D(pool_size=(2, 2), strides=(2, 2), padding='same'),\n",
    "    Conv2D(256, 3, padding='same', activation='relu'),\n",
    "    Conv2D(256, 3, padding='same', activation='relu'),\n",
    "    Conv2D(256, 3, padding='same', activation='relu'),\n",
    "    MaxPooling2D(pool_size=(2, 2), strides=(2, 2), padding='same'),\n",
    "    Conv2D(512, 3, padding='same', activation='relu'),\n",
    "    Conv2D(512, 3, padding='same', activation='relu'),\n",
    "    Conv2D(512, 3, padding='same', activation='relu'),\n",
    "    MaxPooling2D(pool_size=(2, 2), strides=(2, 2), padding='same'),\n",
    "    Conv2D(512, 3, padding='same', activation='relu'),\n",
    "    Conv2D(512, 3, padding='same', activation='relu'),\n",
    "    Conv2D(512, 3, padding='same', activation='relu'),\n",
    "    MaxPooling2D(pool_size=(2, 2), strides=(2, 2), padding='same'),\n",
    "    Flatten(),\n",
    "    Dense(4096, activation='relu'),\n",
    "    Dense(4096, activation='relu'),\n",
    "    Dense(1000, activation='relu'),\n",
    "    Dense(1, activation='sigmoid'),\n",
    "])\n",
    "\n",
    "VGG16.compile(optimizer='adam',\n",
    "              loss='binary_crossentropy',\n",
    "              metrics=['accuracy'])\n",
    "\n",
    "VGG16.summary()"
   ]
  },
  {
   "cell_type": "code",
   "execution_count": 12,
   "metadata": {},
   "outputs": [
    {
     "name": "stdout",
     "output_type": "stream",
     "text": [
      "Epoch 1/20\n"
     ]
    },
    {
     "ename": "ResourceExhaustedError",
     "evalue": "2 root error(s) found.\n  (0) Resource exhausted: OOM when allocating tensor with shape[128,64,224,224] and type float on /job:localhost/replica:0/task:0/device:GPU:0 by allocator GPU_0_bfc\n\t [[{{node conv2d_26/Conv2D}}]]\nHint: If you want to see a list of allocated tensors when OOM happens, add report_tensor_allocations_upon_oom to RunOptions for current allocation info.\n\n\t [[loss_2/mul/_399]]\nHint: If you want to see a list of allocated tensors when OOM happens, add report_tensor_allocations_upon_oom to RunOptions for current allocation info.\n\n  (1) Resource exhausted: OOM when allocating tensor with shape[128,64,224,224] and type float on /job:localhost/replica:0/task:0/device:GPU:0 by allocator GPU_0_bfc\n\t [[{{node conv2d_26/Conv2D}}]]\nHint: If you want to see a list of allocated tensors when OOM happens, add report_tensor_allocations_upon_oom to RunOptions for current allocation info.\n\n0 successful operations.\n0 derived errors ignored.",
     "output_type": "error",
     "traceback": [
      "\u001b[1;31m---------------------------------------------------------------------------\u001b[0m",
      "\u001b[1;31mResourceExhaustedError\u001b[0m                    Traceback (most recent call last)",
      "\u001b[1;32m<ipython-input-12-75bfca7a0252>\u001b[0m in \u001b[0;36m<module>\u001b[1;34m\u001b[0m\n\u001b[0;32m      4\u001b[0m     \u001b[0mepochs\u001b[0m\u001b[1;33m=\u001b[0m\u001b[0mepochs\u001b[0m\u001b[1;33m,\u001b[0m\u001b[1;33m\u001b[0m\u001b[1;33m\u001b[0m\u001b[0m\n\u001b[0;32m      5\u001b[0m     \u001b[0mvalidation_data\u001b[0m\u001b[1;33m=\u001b[0m\u001b[0mvalidation_generator\u001b[0m\u001b[1;33m,\u001b[0m\u001b[1;33m\u001b[0m\u001b[1;33m\u001b[0m\u001b[0m\n\u001b[1;32m----> 6\u001b[1;33m     \u001b[0mvalidation_steps\u001b[0m\u001b[1;33m=\u001b[0m\u001b[0mtotal_val\u001b[0m \u001b[1;33m//\u001b[0m \u001b[0mbatch_size\u001b[0m\u001b[1;33m\u001b[0m\u001b[1;33m\u001b[0m\u001b[0m\n\u001b[0m\u001b[0;32m      7\u001b[0m )\n",
      "\u001b[1;32m~\\Anaconda3\\lib\\site-packages\\tensorflow_core\\python\\keras\\engine\\training.py\u001b[0m in \u001b[0;36mfit_generator\u001b[1;34m(self, generator, steps_per_epoch, epochs, verbose, callbacks, validation_data, validation_steps, validation_freq, class_weight, max_queue_size, workers, use_multiprocessing, shuffle, initial_epoch)\u001b[0m\n\u001b[0;32m   1294\u001b[0m         \u001b[0mshuffle\u001b[0m\u001b[1;33m=\u001b[0m\u001b[0mshuffle\u001b[0m\u001b[1;33m,\u001b[0m\u001b[1;33m\u001b[0m\u001b[1;33m\u001b[0m\u001b[0m\n\u001b[0;32m   1295\u001b[0m         \u001b[0minitial_epoch\u001b[0m\u001b[1;33m=\u001b[0m\u001b[0minitial_epoch\u001b[0m\u001b[1;33m,\u001b[0m\u001b[1;33m\u001b[0m\u001b[1;33m\u001b[0m\u001b[0m\n\u001b[1;32m-> 1296\u001b[1;33m         steps_name='steps_per_epoch')\n\u001b[0m\u001b[0;32m   1297\u001b[0m \u001b[1;33m\u001b[0m\u001b[0m\n\u001b[0;32m   1298\u001b[0m   def evaluate_generator(self,\n",
      "\u001b[1;32m~\\Anaconda3\\lib\\site-packages\\tensorflow_core\\python\\keras\\engine\\training_generator.py\u001b[0m in \u001b[0;36mmodel_iteration\u001b[1;34m(model, data, steps_per_epoch, epochs, verbose, callbacks, validation_data, validation_steps, validation_freq, class_weight, max_queue_size, workers, use_multiprocessing, shuffle, initial_epoch, mode, batch_size, steps_name, **kwargs)\u001b[0m\n\u001b[0;32m    263\u001b[0m \u001b[1;33m\u001b[0m\u001b[0m\n\u001b[0;32m    264\u001b[0m       \u001b[0mis_deferred\u001b[0m \u001b[1;33m=\u001b[0m \u001b[1;32mnot\u001b[0m \u001b[0mmodel\u001b[0m\u001b[1;33m.\u001b[0m\u001b[0m_is_compiled\u001b[0m\u001b[1;33m\u001b[0m\u001b[1;33m\u001b[0m\u001b[0m\n\u001b[1;32m--> 265\u001b[1;33m       \u001b[0mbatch_outs\u001b[0m \u001b[1;33m=\u001b[0m \u001b[0mbatch_function\u001b[0m\u001b[1;33m(\u001b[0m\u001b[1;33m*\u001b[0m\u001b[0mbatch_data\u001b[0m\u001b[1;33m)\u001b[0m\u001b[1;33m\u001b[0m\u001b[1;33m\u001b[0m\u001b[0m\n\u001b[0m\u001b[0;32m    266\u001b[0m       \u001b[1;32mif\u001b[0m \u001b[1;32mnot\u001b[0m \u001b[0misinstance\u001b[0m\u001b[1;33m(\u001b[0m\u001b[0mbatch_outs\u001b[0m\u001b[1;33m,\u001b[0m \u001b[0mlist\u001b[0m\u001b[1;33m)\u001b[0m\u001b[1;33m:\u001b[0m\u001b[1;33m\u001b[0m\u001b[1;33m\u001b[0m\u001b[0m\n\u001b[0;32m    267\u001b[0m         \u001b[0mbatch_outs\u001b[0m \u001b[1;33m=\u001b[0m \u001b[1;33m[\u001b[0m\u001b[0mbatch_outs\u001b[0m\u001b[1;33m]\u001b[0m\u001b[1;33m\u001b[0m\u001b[1;33m\u001b[0m\u001b[0m\n",
      "\u001b[1;32m~\\Anaconda3\\lib\\site-packages\\tensorflow_core\\python\\keras\\engine\\training.py\u001b[0m in \u001b[0;36mtrain_on_batch\u001b[1;34m(self, x, y, sample_weight, class_weight, reset_metrics)\u001b[0m\n\u001b[0;32m   1015\u001b[0m       \u001b[0mself\u001b[0m\u001b[1;33m.\u001b[0m\u001b[0m_update_sample_weight_modes\u001b[0m\u001b[1;33m(\u001b[0m\u001b[0msample_weights\u001b[0m\u001b[1;33m=\u001b[0m\u001b[0msample_weights\u001b[0m\u001b[1;33m)\u001b[0m\u001b[1;33m\u001b[0m\u001b[1;33m\u001b[0m\u001b[0m\n\u001b[0;32m   1016\u001b[0m       \u001b[0mself\u001b[0m\u001b[1;33m.\u001b[0m\u001b[0m_make_train_function\u001b[0m\u001b[1;33m(\u001b[0m\u001b[1;33m)\u001b[0m\u001b[1;33m\u001b[0m\u001b[1;33m\u001b[0m\u001b[0m\n\u001b[1;32m-> 1017\u001b[1;33m       \u001b[0moutputs\u001b[0m \u001b[1;33m=\u001b[0m \u001b[0mself\u001b[0m\u001b[1;33m.\u001b[0m\u001b[0mtrain_function\u001b[0m\u001b[1;33m(\u001b[0m\u001b[0mins\u001b[0m\u001b[1;33m)\u001b[0m  \u001b[1;31m# pylint: disable=not-callable\u001b[0m\u001b[1;33m\u001b[0m\u001b[1;33m\u001b[0m\u001b[0m\n\u001b[0m\u001b[0;32m   1018\u001b[0m \u001b[1;33m\u001b[0m\u001b[0m\n\u001b[0;32m   1019\u001b[0m     \u001b[1;32mif\u001b[0m \u001b[0mreset_metrics\u001b[0m\u001b[1;33m:\u001b[0m\u001b[1;33m\u001b[0m\u001b[1;33m\u001b[0m\u001b[0m\n",
      "\u001b[1;32m~\\Anaconda3\\lib\\site-packages\\tensorflow_core\\python\\keras\\backend.py\u001b[0m in \u001b[0;36m__call__\u001b[1;34m(self, inputs)\u001b[0m\n\u001b[0;32m   3474\u001b[0m \u001b[1;33m\u001b[0m\u001b[0m\n\u001b[0;32m   3475\u001b[0m     fetched = self._callable_fn(*array_vals,\n\u001b[1;32m-> 3476\u001b[1;33m                                 run_metadata=self.run_metadata)\n\u001b[0m\u001b[0;32m   3477\u001b[0m     \u001b[0mself\u001b[0m\u001b[1;33m.\u001b[0m\u001b[0m_call_fetch_callbacks\u001b[0m\u001b[1;33m(\u001b[0m\u001b[0mfetched\u001b[0m\u001b[1;33m[\u001b[0m\u001b[1;33m-\u001b[0m\u001b[0mlen\u001b[0m\u001b[1;33m(\u001b[0m\u001b[0mself\u001b[0m\u001b[1;33m.\u001b[0m\u001b[0m_fetches\u001b[0m\u001b[1;33m)\u001b[0m\u001b[1;33m:\u001b[0m\u001b[1;33m]\u001b[0m\u001b[1;33m)\u001b[0m\u001b[1;33m\u001b[0m\u001b[1;33m\u001b[0m\u001b[0m\n\u001b[0;32m   3478\u001b[0m     output_structure = nest.pack_sequence_as(\n",
      "\u001b[1;32m~\\Anaconda3\\lib\\site-packages\\tensorflow_core\\python\\client\\session.py\u001b[0m in \u001b[0;36m__call__\u001b[1;34m(self, *args, **kwargs)\u001b[0m\n\u001b[0;32m   1470\u001b[0m         ret = tf_session.TF_SessionRunCallable(self._session._session,\n\u001b[0;32m   1471\u001b[0m                                                \u001b[0mself\u001b[0m\u001b[1;33m.\u001b[0m\u001b[0m_handle\u001b[0m\u001b[1;33m,\u001b[0m \u001b[0margs\u001b[0m\u001b[1;33m,\u001b[0m\u001b[1;33m\u001b[0m\u001b[1;33m\u001b[0m\u001b[0m\n\u001b[1;32m-> 1472\u001b[1;33m                                                run_metadata_ptr)\n\u001b[0m\u001b[0;32m   1473\u001b[0m         \u001b[1;32mif\u001b[0m \u001b[0mrun_metadata\u001b[0m\u001b[1;33m:\u001b[0m\u001b[1;33m\u001b[0m\u001b[1;33m\u001b[0m\u001b[0m\n\u001b[0;32m   1474\u001b[0m           \u001b[0mproto_data\u001b[0m \u001b[1;33m=\u001b[0m \u001b[0mtf_session\u001b[0m\u001b[1;33m.\u001b[0m\u001b[0mTF_GetBuffer\u001b[0m\u001b[1;33m(\u001b[0m\u001b[0mrun_metadata_ptr\u001b[0m\u001b[1;33m)\u001b[0m\u001b[1;33m\u001b[0m\u001b[1;33m\u001b[0m\u001b[0m\n",
      "\u001b[1;31mResourceExhaustedError\u001b[0m: 2 root error(s) found.\n  (0) Resource exhausted: OOM when allocating tensor with shape[128,64,224,224] and type float on /job:localhost/replica:0/task:0/device:GPU:0 by allocator GPU_0_bfc\n\t [[{{node conv2d_26/Conv2D}}]]\nHint: If you want to see a list of allocated tensors when OOM happens, add report_tensor_allocations_upon_oom to RunOptions for current allocation info.\n\n\t [[loss_2/mul/_399]]\nHint: If you want to see a list of allocated tensors when OOM happens, add report_tensor_allocations_upon_oom to RunOptions for current allocation info.\n\n  (1) Resource exhausted: OOM when allocating tensor with shape[128,64,224,224] and type float on /job:localhost/replica:0/task:0/device:GPU:0 by allocator GPU_0_bfc\n\t [[{{node conv2d_26/Conv2D}}]]\nHint: If you want to see a list of allocated tensors when OOM happens, add report_tensor_allocations_upon_oom to RunOptions for current allocation info.\n\n0 successful operations.\n0 derived errors ignored."
     ]
    }
   ],
   "source": [
    "history = VGG16.fit_generator(\n",
    "    train_generator,\n",
    "    steps_per_epoch=total_train // batch_size,\n",
    "    epochs=epochs,\n",
    "    validation_data=validation_generator,\n",
    "    validation_steps=total_val // batch_size\n",
    ")"
   ]
  },
  {
   "cell_type": "markdown",
   "metadata": {},
   "source": [
    "## VGG19"
   ]
  },
  {
   "cell_type": "code",
   "execution_count": 22,
   "metadata": {},
   "outputs": [
    {
     "name": "stdout",
     "output_type": "stream",
     "text": [
      "Model: \"sequential_3\"\n",
      "_________________________________________________________________\n",
      "Layer (type)                 Output Shape              Param #   \n",
      "=================================================================\n",
      "conv2d_9 (Conv2D)            (None, 224, 224, 64)      1792      \n",
      "_________________________________________________________________\n",
      "conv2d_10 (Conv2D)           (None, 224, 224, 64)      36928     \n",
      "_________________________________________________________________\n",
      "max_pooling2d_9 (MaxPooling2 (None, 112, 112, 64)      0         \n",
      "_________________________________________________________________\n",
      "conv2d_11 (Conv2D)           (None, 112, 112, 128)     73856     \n",
      "_________________________________________________________________\n",
      "conv2d_12 (Conv2D)           (None, 112, 112, 128)     147584    \n",
      "_________________________________________________________________\n",
      "max_pooling2d_10 (MaxPooling (None, 56, 56, 128)       0         \n",
      "_________________________________________________________________\n",
      "conv2d_13 (Conv2D)           (None, 56, 56, 256)       295168    \n",
      "_________________________________________________________________\n",
      "conv2d_14 (Conv2D)           (None, 56, 56, 256)       590080    \n",
      "_________________________________________________________________\n",
      "conv2d_15 (Conv2D)           (None, 56, 56, 256)       590080    \n",
      "_________________________________________________________________\n",
      "conv2d_16 (Conv2D)           (None, 56, 56, 256)       590080    \n",
      "_________________________________________________________________\n",
      "max_pooling2d_11 (MaxPooling (None, 28, 28, 256)       0         \n",
      "_________________________________________________________________\n",
      "conv2d_17 (Conv2D)           (None, 28, 28, 512)       1180160   \n",
      "_________________________________________________________________\n",
      "conv2d_18 (Conv2D)           (None, 28, 28, 512)       2359808   \n",
      "_________________________________________________________________\n",
      "conv2d_19 (Conv2D)           (None, 28, 28, 512)       2359808   \n",
      "_________________________________________________________________\n",
      "conv2d_20 (Conv2D)           (None, 28, 28, 512)       2359808   \n",
      "_________________________________________________________________\n",
      "max_pooling2d_12 (MaxPooling (None, 14, 14, 512)       0         \n",
      "_________________________________________________________________\n",
      "conv2d_21 (Conv2D)           (None, 14, 14, 512)       2359808   \n",
      "_________________________________________________________________\n",
      "conv2d_22 (Conv2D)           (None, 14, 14, 512)       2359808   \n",
      "_________________________________________________________________\n",
      "conv2d_23 (Conv2D)           (None, 14, 14, 512)       2359808   \n",
      "_________________________________________________________________\n",
      "conv2d_24 (Conv2D)           (None, 14, 14, 512)       2359808   \n",
      "_________________________________________________________________\n",
      "max_pooling2d_13 (MaxPooling (None, 7, 7, 512)         0         \n",
      "_________________________________________________________________\n",
      "flatten_3 (Flatten)          (None, 25088)             0         \n",
      "_________________________________________________________________\n",
      "dense_6 (Dense)              (None, 4096)              102764544 \n",
      "_________________________________________________________________\n",
      "dense_7 (Dense)              (None, 4096)              16781312  \n",
      "_________________________________________________________________\n",
      "dense_8 (Dense)              (None, 1000)              4097000   \n",
      "_________________________________________________________________\n",
      "dense_9 (Dense)              (None, 1)                 1001      \n",
      "=================================================================\n",
      "Total params: 143,668,241\n",
      "Trainable params: 143,668,241\n",
      "Non-trainable params: 0\n",
      "_________________________________________________________________\n"
     ]
    }
   ],
   "source": [
    "VGG19 = Sequential([\n",
    "    Conv2D(64, 3, padding='same', activation='relu', input_shape=(IMG_HEIGHT, IMG_WIDTH ,3)),\n",
    "    Conv2D(64, 3, padding='same', activation='relu'),\n",
    "    MaxPooling2D(pool_size=(2, 2), strides=(2, 2), padding='same'),\n",
    "    Conv2D(128, 3, padding='same', activation='relu'),\n",
    "    Conv2D(128, 3, padding='same', activation='relu'),\n",
    "    MaxPooling2D(pool_size=(2, 2), strides=(2, 2), padding='same'),\n",
    "    Conv2D(256, 3, padding='same', activation='relu'),\n",
    "    Conv2D(256, 3, padding='same', activation='relu'),\n",
    "    Conv2D(256, 3, padding='same', activation='relu'),\n",
    "    Conv2D(256, 3, padding='same', activation='relu'),\n",
    "    MaxPooling2D(pool_size=(2, 2), strides=(2, 2), padding='same'),\n",
    "    Conv2D(512, 3, padding='same', activation='relu'),\n",
    "    Conv2D(512, 3, padding='same', activation='relu'),\n",
    "    Conv2D(512, 3, padding='same', activation='relu'),\n",
    "    Conv2D(512, 3, padding='same', activation='relu'),\n",
    "    MaxPooling2D(pool_size=(2, 2), strides=(2, 2), padding='same'),\n",
    "    Conv2D(512, 3, padding='same', activation='relu'),\n",
    "    Conv2D(512, 3, padding='same', activation='relu'),\n",
    "    Conv2D(512, 3, padding='same', activation='relu'),\n",
    "    Conv2D(512, 3, padding='same', activation='relu'),\n",
    "    MaxPooling2D(pool_size=(2, 2), strides=(2, 2), padding='same'),\n",
    "    Flatten(),\n",
    "    Dense(4096, activation='relu'),\n",
    "    Dense(4096, activation='relu'),\n",
    "    Dense(1000, activation='relu'),\n",
    "    Dense(6, activation='softmax'),\n",
    "])\n",
    "\n",
    "VGG19.compile(optimizer='adam',\n",
    "              loss='binary_crossentropy',\n",
    "              metrics=['accuracy'])\n",
    "\n",
    "VGG19.summary()"
   ]
  }
 ],
 "metadata": {
  "kernelspec": {
   "display_name": "Python 3",
   "language": "python",
   "name": "python3"
  },
  "language_info": {
   "codemirror_mode": {
    "name": "ipython",
    "version": 3
   },
   "file_extension": ".py",
   "mimetype": "text/x-python",
   "name": "python",
   "nbconvert_exporter": "python",
   "pygments_lexer": "ipython3",
   "version": "3.7.3"
  }
 },
 "nbformat": 4,
 "nbformat_minor": 2
}