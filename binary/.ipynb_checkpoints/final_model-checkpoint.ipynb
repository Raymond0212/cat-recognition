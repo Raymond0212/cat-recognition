{
 "cells": [
  {
   "cell_type": "code",
   "execution_count": 12,
   "metadata": {},
   "outputs": [],
   "source": [
    "import os\n",
    "import numpy as np\n",
    "import tensorflow as tf\n",
    "import matplotlib.pyplot as plt\n",
    "\n",
    "from tensorflow.keras.models import Sequential\n",
    "from tensorflow.keras.layers import Dense, Conv2D, Flatten, Dropout, MaxPooling2D, BatchNormalization\n",
    "from tensorflow.keras.preprocessing.image import ImageDataGenerator\n",
    "\n",
    "from tensorflow.keras.models import model_from_yaml\n",
    "\n",
    "os.environ[\"CUDA_VISIBLE_DEVICES\"] = \"0\" "
   ]
  },
  {
   "cell_type": "code",
   "execution_count": 2,
   "metadata": {},
   "outputs": [],
   "source": [
    "path = \"../img/detection\"\n",
    "path_dog = os.path.join(path, 'dog')\n",
    "path_nodog = os.path.join(path, 'no_dog')\n",
    "\n",
    "path_dog_corgi = os.path.join(path_dog, 'corgi')\n",
    "path_dog_shiba = os.path.join(path_dog, 'shiba')\n",
    "path_dog_gr = os.path.join(path_dog, 'gr')\n",
    "\n",
    "path_nodog_parrot = os.path.join(path_nodog, 'parrot')\n",
    "path_nodog_tiger = os.path.join(path_nodog, 'tiger')\n",
    "path_nodog_rabbit = os.path.join(path_nodog, 'rabbit')\n",
    "class_names = ['dog', 'no_dog']"
   ]
  },
  {
   "cell_type": "code",
   "execution_count": 3,
   "metadata": {},
   "outputs": [
    {
     "name": "stdout",
     "output_type": "stream",
     "text": [
      "total dog images: 3321\n",
      "total no_dog images: 3199\n",
      "total images: 6520\n"
     ]
    }
   ],
   "source": [
    "num_corgi = len(os.listdir(path_dog_corgi))\n",
    "num_shiba = len(os.listdir(path_dog_shiba))\n",
    "num_gr = len(os.listdir(path_dog_gr))\n",
    "num_dogs = num_gr + num_shiba + num_corgi\n",
    "\n",
    "num_parrot = len(os.listdir(path_nodog_parrot))\n",
    "num_tiger = len(os.listdir(path_nodog_tiger))\n",
    "num_rabbit = len(os.listdir(path_nodog_rabbit))\n",
    "num_nodogs = num_parrot + num_tiger + num_rabbit\n",
    "\n",
    "total_img_num = num_dogs + num_nodogs\n",
    "\n",
    "print('total dog images:', num_dogs)\n",
    "print('total no_dog images:', num_nodogs)\n",
    "print('total images:', total_img_num)"
   ]
  },
  {
   "cell_type": "code",
   "execution_count": 4,
   "metadata": {},
   "outputs": [],
   "source": [
    "epochs = 26\n",
    "IMG_HEIGHT = 112\n",
    "IMG_WIDTH = 112\n",
    "batch_size = 128"
   ]
  },
  {
   "cell_type": "code",
   "execution_count": 86,
   "metadata": {},
   "outputs": [],
   "source": [
    "data_generator = ImageDataGenerator(rescale=1./255)"
   ]
  },
  {
   "cell_type": "code",
   "execution_count": 87,
   "metadata": {},
   "outputs": [
    {
     "name": "stdout",
     "output_type": "stream",
     "text": [
      "Found 6520 images belonging to 2 classes.\n"
     ]
    }
   ],
   "source": [
    "data_gen = data_generator.flow_from_directory(batch_size=batch_size,\n",
    "                                              directory=path,\n",
    "                                              shuffle=True,\n",
    "                                              target_size=(IMG_HEIGHT, IMG_WIDTH),\n",
    "                                              class_mode='binary')"
   ]
  },
  {
   "cell_type": "code",
   "execution_count": 98,
   "metadata": {},
   "outputs": [
    {
     "name": "stdout",
     "output_type": "stream",
     "text": [
      "[0 0 0 ... 1 1 1]\n"
     ]
    }
   ],
   "source": [
    "# all labels\n",
    "labels = data_gen.classes"
   ]
  },
  {
   "cell_type": "code",
   "execution_count": 89,
   "metadata": {},
   "outputs": [
    {
     "name": "stdout",
     "output_type": "stream",
     "text": [
      "{'dog': 0, 'no_dog': 1}\n",
      "{0: 'dog', 1: 'no_dog'}\n"
     ]
    }
   ],
   "source": [
    "## check encoded label\n",
    "labels = (data_gen.class_indices)\n",
    "print(labels)"
   ]
  },
  {
   "cell_type": "code",
   "execution_count": 8,
   "metadata": {},
   "outputs": [
    {
     "name": "stdout",
     "output_type": "stream",
     "text": [
      "WARNING:tensorflow:From C:\\Users\\ABC\\Anaconda3\\lib\\site-packages\\tensorflow_core\\python\\ops\\resource_variable_ops.py:1630: calling BaseResourceVariable.__init__ (from tensorflow.python.ops.resource_variable_ops) with constraint is deprecated and will be removed in a future version.\n",
      "Instructions for updating:\n",
      "If using Keras pass *_constraint arguments to layers.\n",
      "WARNING:tensorflow:Large dropout rate: 0.8 (>0.5). In TensorFlow 2.x, dropout() uses dropout rate instead of keep_prob. Please ensure that this is intended.\n",
      "WARNING:tensorflow:Large dropout rate: 0.8 (>0.5). In TensorFlow 2.x, dropout() uses dropout rate instead of keep_prob. Please ensure that this is intended.\n",
      "WARNING:tensorflow:From C:\\Users\\ABC\\Anaconda3\\lib\\site-packages\\tensorflow_core\\python\\ops\\nn_impl.py:183: where (from tensorflow.python.ops.array_ops) is deprecated and will be removed in a future version.\n",
      "Instructions for updating:\n",
      "Use tf.where in 2.0, which has the same broadcast rule as np.where\n"
     ]
    }
   ],
   "source": [
    "model = Sequential([\n",
    "    Conv2D(16, 3, padding='same', activation='relu', input_shape=(IMG_HEIGHT, IMG_WIDTH ,3)),\n",
    "    MaxPooling2D(),\n",
    "    Conv2D(32, 3, padding='same', activation='relu'),\n",
    "    MaxPooling2D(),\n",
    "    Conv2D(64, 3, padding='same', activation='relu'),\n",
    "    MaxPooling2D(),\n",
    "    Dropout(0.8),\n",
    "    Flatten(),\n",
    "    Dense(512, activation='relu'),\n",
    "    Dropout(0.8),\n",
    "    Dense(1, activation='sigmoid')\n",
    "])\n",
    "\n",
    "model.compile(optimizer='adam',\n",
    "              loss='binary_crossentropy',\n",
    "              metrics=['accuracy'])"
   ]
  },
  {
   "cell_type": "code",
   "execution_count": 10,
   "metadata": {},
   "outputs": [
    {
     "name": "stdout",
     "output_type": "stream",
     "text": [
      "Epoch 1/26\n",
      "50/50 [==============================] - 27s 547ms/step - loss: 0.3297 - acc: 0.8614\n",
      "Epoch 2/26\n",
      "50/50 [==============================] - 27s 536ms/step - loss: 0.3335 - acc: 0.8622\n",
      "Epoch 3/26\n",
      "50/50 [==============================] - 27s 531ms/step - loss: 0.3232 - acc: 0.8633\n",
      "Epoch 4/26\n",
      "50/50 [==============================] - 28s 552ms/step - loss: 0.3228 - acc: 0.8651\n",
      "Epoch 5/26\n",
      "50/50 [==============================] - 28s 552ms/step - loss: 0.2973 - acc: 0.8764\n",
      "Epoch 6/26\n",
      "50/50 [==============================] - 29s 573ms/step - loss: 0.2871 - acc: 0.8839\n",
      "Epoch 7/26\n",
      "50/50 [==============================] - 28s 551ms/step - loss: 0.2862 - acc: 0.8864\n",
      "Epoch 8/26\n",
      "50/50 [==============================] - 27s 544ms/step - loss: 0.2701 - acc: 0.8908\n",
      "Epoch 9/26\n",
      "50/50 [==============================] - 27s 543ms/step - loss: 0.2767 - acc: 0.8828\n",
      "Epoch 10/26\n",
      "50/50 [==============================] - 26s 524ms/step - loss: 0.2717 - acc: 0.8820\n",
      "Epoch 11/26\n",
      "50/50 [==============================] - 27s 532ms/step - loss: 0.2602 - acc: 0.8944\n",
      "Epoch 12/26\n",
      "50/50 [==============================] - 27s 544ms/step - loss: 0.2712 - acc: 0.8913\n",
      "Epoch 13/26\n",
      "50/50 [==============================] - 27s 543ms/step - loss: 0.2386 - acc: 0.9000\n",
      "Epoch 14/26\n",
      "50/50 [==============================] - 27s 536ms/step - loss: 0.2304 - acc: 0.9090\n",
      "Epoch 15/26\n",
      "50/50 [==============================] - 27s 533ms/step - loss: 0.2265 - acc: 0.9069\n",
      "Epoch 16/26\n",
      "50/50 [==============================] - 26s 526ms/step - loss: 0.2143 - acc: 0.9124\n",
      "Epoch 17/26\n",
      "50/50 [==============================] - 28s 560ms/step - loss: 0.2070 - acc: 0.9154\n",
      "Epoch 18/26\n",
      "50/50 [==============================] - 26s 527ms/step - loss: 0.2319 - acc: 0.9014\n",
      "Epoch 19/26\n",
      "50/50 [==============================] - 27s 534ms/step - loss: 0.2232 - acc: 0.9111\n",
      "Epoch 20/26\n",
      "50/50 [==============================] - 28s 553ms/step - loss: 0.1942 - acc: 0.9203\n",
      "Epoch 21/26\n",
      "50/50 [==============================] - 26s 526ms/step - loss: 0.1898 - acc: 0.9210\n",
      "Epoch 22/26\n",
      "50/50 [==============================] - 27s 538ms/step - loss: 0.1988 - acc: 0.9179\n",
      "Epoch 23/26\n",
      "50/50 [==============================] - 28s 553ms/step - loss: 0.1776 - acc: 0.9305\n",
      "Epoch 24/26\n",
      "50/50 [==============================] - 28s 562ms/step - loss: 0.1935 - acc: 0.9205\n",
      "Epoch 25/26\n",
      "50/50 [==============================] - 28s 554ms/step - loss: 0.1709 - acc: 0.9297\n",
      "Epoch 26/26\n",
      "50/50 [==============================] - 28s 554ms/step - loss: 0.1837 - acc: 0.9260\n"
     ]
    }
   ],
   "source": [
    "history = model.fit_generator(\n",
    "    data_gen,\n",
    "    steps_per_epoch=total_img_num // batch_size,\n",
    "    epochs=epochs\n",
    ")"
   ]
  },
  {
   "cell_type": "markdown",
   "metadata": {},
   "source": [
    "## Save"
   ]
  },
  {
   "cell_type": "code",
   "execution_count": 13,
   "metadata": {},
   "outputs": [],
   "source": [
    "# serialize model to YAML\n",
    "model_yaml = model.to_yaml()\n",
    "with open(\"model.yaml\", \"w\") as yaml_file:\n",
    "    yaml_file.write(model_yaml)\n",
    "\n",
    "# serialize weights to HDF5\n",
    "model.save_weights(\"model.h5\")"
   ]
  },
  {
   "cell_type": "markdown",
   "metadata": {},
   "source": [
    "## Load"
   ]
  },
  {
   "cell_type": "code",
   "execution_count": 14,
   "metadata": {},
   "outputs": [
    {
     "name": "stdout",
     "output_type": "stream",
     "text": [
      "WARNING:tensorflow:From C:\\Users\\ABC\\Anaconda3\\lib\\site-packages\\tensorflow_core\\python\\ops\\init_ops.py:97: calling GlorotUniform.__init__ (from tensorflow.python.ops.init_ops) with dtype is deprecated and will be removed in a future version.\n",
      "Instructions for updating:\n",
      "Call initializer instance with the dtype argument instead of passing it to the constructor\n",
      "WARNING:tensorflow:From C:\\Users\\ABC\\Anaconda3\\lib\\site-packages\\tensorflow_core\\python\\ops\\init_ops.py:97: calling Zeros.__init__ (from tensorflow.python.ops.init_ops) with dtype is deprecated and will be removed in a future version.\n",
      "Instructions for updating:\n",
      "Call initializer instance with the dtype argument instead of passing it to the constructor\n",
      "WARNING:tensorflow:Large dropout rate: 0.8 (>0.5). In TensorFlow 2.x, dropout() uses dropout rate instead of keep_prob. Please ensure that this is intended.\n",
      "WARNING:tensorflow:Large dropout rate: 0.8 (>0.5). In TensorFlow 2.x, dropout() uses dropout rate instead of keep_prob. Please ensure that this is intended.\n"
     ]
    },
    {
     "name": "stderr",
     "output_type": "stream",
     "text": [
      "C:\\Users\\ABC\\Anaconda3\\lib\\site-packages\\tensorflow_core\\python\\keras\\saving\\model_config.py:76: YAMLLoadWarning: calling yaml.load() without Loader=... is deprecated, as the default Loader is unsafe. Please read https://msg.pyyaml.org/load for full details.\n",
      "  config = yaml.load(yaml_string)\n"
     ]
    }
   ],
   "source": [
    "# load YAML and create model\n",
    "yaml_file = open('model.yaml', 'r')\n",
    "loaded_model_yaml = yaml_file.read()\n",
    "yaml_file.close()\n",
    "loaded_model = model_from_yaml(loaded_model_yaml)\n",
    "\n",
    "# load weights into new model\n",
    "loaded_model.load_weights(\"model.h5\")"
   ]
  },
  {
   "cell_type": "code",
   "execution_count": 76,
   "metadata": {},
   "outputs": [],
   "source": [
    "loaded_model.compile(optimizer='adam',\n",
    "              loss='binary_crossentropy',\n",
    "              metrics=['accuracy'])"
   ]
  },
  {
   "cell_type": "code",
   "execution_count": 77,
   "metadata": {},
   "outputs": [
    {
     "name": "stdout",
     "output_type": "stream",
     "text": [
      "Found 4 images belonging to 1 classes.\n"
     ]
    }
   ],
   "source": [
    "predict_img = \"../img/test_img\"\n",
    "\n",
    "predict_gen = data_generator.flow_from_directory(directory=predict_img,\n",
    "                                              target_size=(IMG_HEIGHT, IMG_WIDTH),\n",
    "                                              class_mode='binary',\n",
    "                                                 shuffle=False)"
   ]
  },
  {
   "cell_type": "code",
   "execution_count": 90,
   "metadata": {},
   "outputs": [
    {
     "name": "stdout",
     "output_type": "stream",
     "text": [
      "[[0.02821344]\n",
      " [0.04785806]\n",
      " [0.11119083]\n",
      " [0.8936862 ]]\n"
     ]
    }
   ],
   "source": [
    "predict = loaded_model.predict_generator(predict_gen)\n",
    "print(predict)"
   ]
  },
  {
   "cell_type": "code",
   "execution_count": 93,
   "metadata": {},
   "outputs": [
    {
     "name": "stdout",
     "output_type": "stream",
     "text": [
      "[[0.]\n",
      " [0.]\n",
      " [0.]\n",
      " [1.]]\n"
     ]
    }
   ],
   "source": [
    "## get label\n",
    "y_pred = np.rint(predict)\n",
    "print(y_pred)"
   ]
  },
  {
   "cell_type": "code",
   "execution_count": null,
   "metadata": {},
   "outputs": [],
   "source": [
    "## for multiclass\n",
    "predicted_class_indices = np.argmax(pred, axis=1)\n",
    "predictions = [label[i] for i in predicted_class_indices]"
   ]
  },
  {
   "cell_type": "code",
   "execution_count": 85,
   "metadata": {},
   "outputs": [
    {
     "name": "stdout",
     "output_type": "stream",
     "text": [
      "['test\\\\1.jpg', 'test\\\\2.jpg', 'test\\\\3.jpg', 'test\\\\4.jpg']\n"
     ]
    }
   ],
   "source": [
    "## check filename\n",
    "filenames = predict_gen.filenames\n",
    "print(filenames)"
   ]
  }
 ],
 "metadata": {
  "kernelspec": {
   "display_name": "Python 3",
   "language": "python",
   "name": "python3"
  },
  "language_info": {
   "codemirror_mode": {
    "name": "ipython",
    "version": 3
   },
   "file_extension": ".py",
   "mimetype": "text/x-python",
   "name": "python",
   "nbconvert_exporter": "python",
   "pygments_lexer": "ipython3",
   "version": "3.7.3"
  }
 },
 "nbformat": 4,
 "nbformat_minor": 2
}
