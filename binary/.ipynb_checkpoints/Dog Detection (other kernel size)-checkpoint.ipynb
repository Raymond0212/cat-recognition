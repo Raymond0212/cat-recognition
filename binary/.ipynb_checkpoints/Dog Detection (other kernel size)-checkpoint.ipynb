{
 "cells": [
  {
   "cell_type": "code",
   "execution_count": 1,
   "metadata": {},
   "outputs": [],
   "source": [
    "import os\n",
    "import numpy as np\n",
    "import tensorflow as tf\n",
    "import matplotlib.pyplot as plt\n",
    "\n",
    "from tensorflow.keras.models import Sequential\n",
    "from tensorflow.keras.layers import Dense, Conv2D, Flatten, Dropout, MaxPooling2D, BatchNormalization, Activation\n",
    "from tensorflow.keras.preprocessing.image import ImageDataGenerator\n",
    "\n",
    "\n",
    "os.environ[\"CUDA_VISIBLE_DEVICES\"] = \"0\" "
   ]
  },
  {
   "cell_type": "code",
   "execution_count": 2,
   "metadata": {},
   "outputs": [],
   "source": [
    "path = \"../img/detection\"\n",
    "path_dog = os.path.join(path, 'dog')\n",
    "path_nodog = os.path.join(path, 'no_dog')\n",
    "\n",
    "path_dog_corgi = os.path.join(path_dog, 'corgi')\n",
    "path_dog_shiba = os.path.join(path_dog, 'shiba')\n",
    "path_dog_gr = os.path.join(path_dog, 'gr')\n",
    "\n",
    "path_nodog_parrot = os.path.join(path_nodog, 'parrot')\n",
    "path_nodog_tiger = os.path.join(path_nodog, 'tiger')\n",
    "path_nodog_rabbit = os.path.join(path_nodog, 'rabbit')\n",
    "class_names = ['dog', 'no_dog']"
   ]
  },
  {
   "cell_type": "code",
   "execution_count": 3,
   "metadata": {},
   "outputs": [],
   "source": [
    "split = 0.2\n",
    "\n",
    "num_corgi = len(os.listdir(path_dog_corgi))\n",
    "num_shiba = len(os.listdir(path_dog_shiba))\n",
    "num_gr = len(os.listdir(path_dog_gr))\n",
    "num_dogs = num_gr + num_shiba + num_corgi\n",
    "\n",
    "num_parrot = len(os.listdir(path_nodog_parrot))\n",
    "num_tiger = len(os.listdir(path_nodog_tiger))\n",
    "num_rabbit = len(os.listdir(path_nodog_rabbit))\n",
    "num_nodogs = num_parrot + num_tiger + num_rabbit\n",
    "\n",
    "total_img_num = num_dogs + num_nodogs\n",
    "\n",
    "total_val = total_img_num * split\n",
    "total_train = total_img_num - total_val"
   ]
  },
  {
   "cell_type": "code",
   "execution_count": 4,
   "metadata": {},
   "outputs": [],
   "source": [
    "epochs = 35\n",
    "IMG_HEIGHT = 224\n",
    "IMG_WIDTH = 224\n",
    "batch_size = 50 #128"
   ]
  },
  {
   "cell_type": "code",
   "execution_count": 5,
   "metadata": {},
   "outputs": [
    {
     "name": "stdout",
     "output_type": "stream",
     "text": [
      "Found 5217 images belonging to 2 classes.\n",
      "Found 1303 images belonging to 2 classes.\n"
     ]
    }
   ],
   "source": [
    "data_generator = ImageDataGenerator(rescale=1./255, validation_split=split)\n",
    "\n",
    "train_generator = data_generator.flow_from_directory(\n",
    "    directory=path,\n",
    "    target_size=(IMG_HEIGHT, IMG_WIDTH),\n",
    "    batch_size=batch_size,\n",
    "    class_mode='binary',\n",
    "    shuffle=True,\n",
    "    subset='training') # set as training data\n",
    "\n",
    "validation_generator = data_generator.flow_from_directory(\n",
    "    directory=path,\n",
    "    target_size=(IMG_HEIGHT, IMG_WIDTH),\n",
    "    batch_size=batch_size,\n",
    "    class_mode='binary',\n",
    "    shuffle=True,\n",
    "    subset='validation') # set as validation data"
   ]
  },
  {
   "cell_type": "markdown",
   "metadata": {},
   "source": [
    "## 1. 11 5 3 no dropout"
   ]
  },
  {
   "cell_type": "code",
   "execution_count": 6,
   "metadata": {},
   "outputs": [
    {
     "name": "stdout",
     "output_type": "stream",
     "text": [
      "WARNING:tensorflow:From C:\\Users\\ABC\\Anaconda3\\lib\\site-packages\\tensorflow_core\\python\\ops\\resource_variable_ops.py:1630: calling BaseResourceVariable.__init__ (from tensorflow.python.ops.resource_variable_ops) with constraint is deprecated and will be removed in a future version.\n",
      "Instructions for updating:\n",
      "If using Keras pass *_constraint arguments to layers.\n",
      "WARNING:tensorflow:From C:\\Users\\ABC\\Anaconda3\\lib\\site-packages\\tensorflow_core\\python\\ops\\nn_impl.py:183: where (from tensorflow.python.ops.array_ops) is deprecated and will be removed in a future version.\n",
      "Instructions for updating:\n",
      "Use tf.where in 2.0, which has the same broadcast rule as np.where\n",
      "Model: \"sequential\"\n",
      "_________________________________________________________________\n",
      "Layer (type)                 Output Shape              Param #   \n",
      "=================================================================\n",
      "conv2d (Conv2D)              (None, 224, 224, 16)      2368      \n",
      "_________________________________________________________________\n",
      "batch_normalization (BatchNo (None, 224, 224, 16)      64        \n",
      "_________________________________________________________________\n",
      "activation (Activation)      (None, 224, 224, 16)      0         \n",
      "_________________________________________________________________\n",
      "max_pooling2d (MaxPooling2D) (None, 112, 112, 16)      0         \n",
      "_________________________________________________________________\n",
      "conv2d_1 (Conv2D)            (None, 112, 112, 32)      12832     \n",
      "_________________________________________________________________\n",
      "batch_normalization_1 (Batch (None, 112, 112, 32)      128       \n",
      "_________________________________________________________________\n",
      "activation_1 (Activation)    (None, 112, 112, 32)      0         \n",
      "_________________________________________________________________\n",
      "max_pooling2d_1 (MaxPooling2 (None, 56, 56, 32)        0         \n",
      "_________________________________________________________________\n",
      "conv2d_2 (Conv2D)            (None, 56, 56, 64)        18496     \n",
      "_________________________________________________________________\n",
      "batch_normalization_2 (Batch (None, 56, 56, 64)        256       \n",
      "_________________________________________________________________\n",
      "activation_2 (Activation)    (None, 56, 56, 64)        0         \n",
      "_________________________________________________________________\n",
      "max_pooling2d_2 (MaxPooling2 (None, 28, 28, 64)        0         \n",
      "_________________________________________________________________\n",
      "flatten (Flatten)            (None, 50176)             0         \n",
      "_________________________________________________________________\n",
      "dense (Dense)                (None, 512)               25690624  \n",
      "_________________________________________________________________\n",
      "dense_1 (Dense)              (None, 1)                 513       \n",
      "=================================================================\n",
      "Total params: 25,725,281\n",
      "Trainable params: 25,725,057\n",
      "Non-trainable params: 224\n",
      "_________________________________________________________________\n"
     ]
    }
   ],
   "source": [
    "model = Sequential([\n",
    "    Conv2D(32, 3, padding='same', input_shape=(IMG_HEIGHT, IMG_WIDTH ,3)),\n",
    "    Activation('relu'),\n",
    "    Conv2D(32, 3),\n",
    "    Activation('relu'),\n",
    "    MaxPooling2D(pool_size=(2, 2), strides=(2, 2)),\n",
    "    Dropout(0.25),\n",
    "    Conv2D(64, 5, padding='same'),\n",
    "    Activation('relu'),\n",
    "    Conv2D(64, 5),\n",
    "    Activation('relu'),\n",
    "    MaxPooling2D(pool_size=(2, 2), strides=(2, 2)),\n",
    "    Dropout(0.25),\n",
    "    Flatten(),\n",
    "    Dense(512),\n",
    "    Activation('relu'),\n",
    "    Dropout(0.5),\n",
    "    Dense(classNum),\n",
    "    Activation('softmax')\n",
    "])"
   ]
  },
  {
   "cell_type": "code",
   "execution_count": 7,
   "metadata": {
    "scrolled": false
   },
   "outputs": [
    {
     "name": "stdout",
     "output_type": "stream",
     "text": [
      "Epoch 1/35\n",
      "103/104 [============================>.] - ETA: 1s - loss: 0.7358 - acc: 0.7334Epoch 1/35\n",
      "  6/104 [>.............................] - ETA: 36s - loss: 0.7375 - acc: 0.5200"
     ]
    },
    {
     "name": "stderr",
     "output_type": "stream",
     "text": [
      "C:\\Users\\ABC\\Anaconda3\\lib\\site-packages\\PIL\\Image.py:968: UserWarning: Palette images with Transparency   expressed in bytes should be converted to RGBA images\n",
      "  ' expressed in bytes should be converted ' +\n"
     ]
    },
    {
     "name": "stdout",
     "output_type": "stream",
     "text": [
      "104/104 [==============================] - 133s 1s/step - loss: 0.7325 - acc: 0.7345 - val_loss: 0.7469 - val_acc: 0.5085\n",
      "Epoch 2/35\n",
      "103/104 [============================>.] - ETA: 1s - loss: 0.4285 - acc: 0.8098Epoch 1/35\n",
      "104/104 [==============================] - 125s 1s/step - loss: 0.4280 - acc: 0.8101 - val_loss: 0.8599 - val_acc: 0.5200\n",
      "Epoch 3/35\n",
      "103/104 [============================>.] - ETA: 1s - loss: 0.3783 - acc: 0.8368Epoch 1/35\n",
      "104/104 [==============================] - 125s 1s/step - loss: 0.3787 - acc: 0.8370 - val_loss: 0.8829 - val_acc: 0.5731\n",
      "Epoch 4/35\n",
      "103/104 [============================>.] - ETA: 1s - loss: 0.3517 - acc: 0.8546Epoch 1/35\n",
      "104/104 [==============================] - 126s 1s/step - loss: 0.3526 - acc: 0.8535 - val_loss: 0.5937 - val_acc: 0.6931\n",
      "Epoch 5/35\n",
      "103/104 [============================>.] - ETA: 1s - loss: 0.3111 - acc: 0.8697Epoch 1/35\n",
      "104/104 [==============================] - 126s 1s/step - loss: 0.3122 - acc: 0.8690 - val_loss: 0.4992 - val_acc: 0.7569\n",
      "Epoch 6/35\n",
      "103/104 [============================>.] - ETA: 1s - loss: 0.2951 - acc: 0.8874Epoch 1/35\n",
      "104/104 [==============================] - 134s 1s/step - loss: 0.2938 - acc: 0.8879 - val_loss: 0.3555 - val_acc: 0.8400\n",
      "Epoch 7/35\n",
      "103/104 [============================>.] - ETA: 1s - loss: 0.2477 - acc: 0.8976Epoch 1/35\n",
      "104/104 [==============================] - 129s 1s/step - loss: 0.2502 - acc: 0.8963 - val_loss: 2.5126 - val_acc: 0.4938\n",
      "Epoch 8/35\n",
      "103/104 [============================>.] - ETA: 1s - loss: 0.2058 - acc: 0.9169Epoch 1/35\n",
      "104/104 [==============================] - 126s 1s/step - loss: 0.2054 - acc: 0.9176 - val_loss: 1.0933 - val_acc: 0.5846\n",
      "Epoch 9/35\n",
      "103/104 [============================>.] - ETA: 1s - loss: 0.1921 - acc: 0.9273Epoch 1/35\n",
      "104/104 [==============================] - 125s 1s/step - loss: 0.1916 - acc: 0.9278 - val_loss: 0.3752 - val_acc: 0.8431\n",
      "Epoch 10/35\n",
      "103/104 [============================>.] - ETA: 1s - loss: 0.1574 - acc: 0.9455Epoch 1/35\n",
      "104/104 [==============================] - 125s 1s/step - loss: 0.1578 - acc: 0.9452 - val_loss: 0.5967 - val_acc: 0.7515\n",
      "Epoch 11/35\n",
      "103/104 [============================>.] - ETA: 1s - loss: 0.1229 - acc: 0.9592Epoch 1/35\n",
      "104/104 [==============================] - 125s 1s/step - loss: 0.1229 - acc: 0.9590 - val_loss: 0.4398 - val_acc: 0.8231\n",
      "Epoch 12/35\n",
      "103/104 [============================>.] - ETA: 1s - loss: 0.1594 - acc: 0.9501Epoch 1/35\n",
      "104/104 [==============================] - 125s 1s/step - loss: 0.1583 - acc: 0.9503 - val_loss: 0.4651 - val_acc: 0.8231\n",
      "Epoch 13/35\n",
      "103/104 [============================>.] - ETA: 1s - loss: 0.0788 - acc: 0.9779Epoch 1/35\n",
      "104/104 [==============================] - 126s 1s/step - loss: 0.0786 - acc: 0.9779 - val_loss: 0.8364 - val_acc: 0.7069\n",
      "Epoch 14/35\n",
      "103/104 [============================>.] - ETA: 1s - loss: 0.0684 - acc: 0.9818Epoch 1/35\n",
      "104/104 [==============================] - 126s 1s/step - loss: 0.0680 - acc: 0.9820 - val_loss: 0.3909 - val_acc: 0.8385\n",
      "Epoch 15/35\n",
      "103/104 [============================>.] - ETA: 1s - loss: 0.0467 - acc: 0.9906Epoch 1/35\n",
      "104/104 [==============================] - 125s 1s/step - loss: 0.0464 - acc: 0.9907 - val_loss: 0.4159 - val_acc: 0.8462\n",
      "Epoch 16/35\n",
      "103/104 [============================>.] - ETA: 1s - loss: 0.1363 - acc: 0.9650Epoch 1/35\n",
      "104/104 [==============================] - 125s 1s/step - loss: 0.1354 - acc: 0.9654 - val_loss: 0.4334 - val_acc: 0.8408\n",
      "Epoch 17/35\n",
      "103/104 [============================>.] - ETA: 1s - loss: 0.0408 - acc: 0.9941Epoch 1/35\n",
      "104/104 [==============================] - 125s 1s/step - loss: 0.0412 - acc: 0.9940 - val_loss: 0.4519 - val_acc: 0.8308\n",
      "Epoch 18/35\n",
      "103/104 [============================>.] - ETA: 1s - loss: 0.0257 - acc: 0.9969Epoch 1/35\n",
      "104/104 [==============================] - 125s 1s/step - loss: 0.0257 - acc: 0.9969 - val_loss: 0.4823 - val_acc: 0.8423\n",
      "Epoch 19/35\n",
      "103/104 [============================>.] - ETA: 1s - loss: 0.0198 - acc: 0.9982Epoch 1/35\n",
      "104/104 [==============================] - 125s 1s/step - loss: 0.0197 - acc: 0.9983 - val_loss: 0.4124 - val_acc: 0.8615\n",
      "Epoch 20/35\n",
      "103/104 [============================>.] - ETA: 1s - loss: 0.0187 - acc: 0.9980Epoch 1/35\n",
      "104/104 [==============================] - 125s 1s/step - loss: 0.0186 - acc: 0.9981 - val_loss: 0.4303 - val_acc: 0.8569\n",
      "Epoch 21/35\n",
      "103/104 [============================>.] - ETA: 1s - loss: 0.0124 - acc: 0.9996Epoch 1/35\n",
      "104/104 [==============================] - 125s 1s/step - loss: 0.0124 - acc: 0.9996 - val_loss: 0.4459 - val_acc: 0.8523\n",
      "Epoch 22/35\n",
      "103/104 [============================>.] - ETA: 1s - loss: 0.0114 - acc: 0.9990Epoch 1/35\n",
      "104/104 [==============================] - 125s 1s/step - loss: 0.0113 - acc: 0.9990 - val_loss: 0.4780 - val_acc: 0.8446\n",
      "Epoch 23/35\n",
      "103/104 [============================>.] - ETA: 1s - loss: 0.0112 - acc: 0.9992Epoch 1/35\n",
      "104/104 [==============================] - 126s 1s/step - loss: 0.0111 - acc: 0.9992 - val_loss: 0.4730 - val_acc: 0.8400\n",
      "Epoch 24/35\n",
      "103/104 [============================>.] - ETA: 1s - loss: 0.0085 - acc: 0.9996Epoch 1/35\n",
      "104/104 [==============================] - 125s 1s/step - loss: 0.0085 - acc: 0.9996 - val_loss: 0.4701 - val_acc: 0.8546\n",
      "Epoch 25/35\n",
      "103/104 [============================>.] - ETA: 1s - loss: 0.0069 - acc: 1.0000Epoch 1/35\n",
      "104/104 [==============================] - 125s 1s/step - loss: 0.0069 - acc: 1.0000 - val_loss: 0.5015 - val_acc: 0.8492\n",
      "Epoch 26/35\n",
      "103/104 [============================>.] - ETA: 1s - loss: 0.0079 - acc: 0.9994Epoch 1/35\n",
      "104/104 [==============================] - 125s 1s/step - loss: 0.0078 - acc: 0.9994 - val_loss: 0.4835 - val_acc: 0.8531\n",
      "Epoch 27/35\n",
      "103/104 [============================>.] - ETA: 1s - loss: 0.0060 - acc: 0.9998Epoch 1/35\n",
      "104/104 [==============================] - 126s 1s/step - loss: 0.0060 - acc: 0.9998 - val_loss: 0.4942 - val_acc: 0.8577\n",
      "Epoch 28/35\n",
      "103/104 [============================>.] - ETA: 1s - loss: 0.0064 - acc: 0.9994Epoch 1/35\n",
      "104/104 [==============================] - 125s 1s/step - loss: 0.0064 - acc: 0.9994 - val_loss: 0.4767 - val_acc: 0.8500\n",
      "Epoch 29/35\n",
      "103/104 [============================>.] - ETA: 1s - loss: 0.0060 - acc: 0.9996Epoch 1/35\n",
      "104/104 [==============================] - 124s 1s/step - loss: 0.0060 - acc: 0.9996 - val_loss: 0.4943 - val_acc: 0.8531\n",
      "Epoch 30/35\n",
      "103/104 [============================>.] - ETA: 1s - loss: 0.0043 - acc: 1.0000Epoch 1/35\n",
      "104/104 [==============================] - 126s 1s/step - loss: 0.0043 - acc: 1.0000 - val_loss: 0.5097 - val_acc: 0.8492\n",
      "Epoch 31/35\n",
      "103/104 [============================>.] - ETA: 1s - loss: 0.0036 - acc: 1.0000Epoch 1/35\n",
      "104/104 [==============================] - 125s 1s/step - loss: 0.0037 - acc: 1.0000 - val_loss: 0.5325 - val_acc: 0.8438\n",
      "Epoch 32/35\n",
      "103/104 [============================>.] - ETA: 1s - loss: 0.0038 - acc: 0.9998Epoch 1/35\n",
      "104/104 [==============================] - 124s 1s/step - loss: 0.0038 - acc: 0.9998 - val_loss: 0.4988 - val_acc: 0.8546\n",
      "Epoch 33/35\n",
      "103/104 [============================>.] - ETA: 1s - loss: 0.0037 - acc: 0.9998Epoch 1/35\n",
      "104/104 [==============================] - 125s 1s/step - loss: 0.0037 - acc: 0.9998 - val_loss: 0.5088 - val_acc: 0.8538\n",
      "Epoch 34/35\n",
      "103/104 [============================>.] - ETA: 1s - loss: 0.0032 - acc: 1.0000Epoch 1/35\n",
      "104/104 [==============================] - 125s 1s/step - loss: 0.0032 - acc: 1.0000 - val_loss: 0.5217 - val_acc: 0.8492\n",
      "Epoch 35/35\n",
      "103/104 [============================>.] - ETA: 1s - loss: 0.0028 - acc: 1.0000Epoch 1/35\n",
      "104/104 [==============================] - 125s 1s/step - loss: 0.0028 - acc: 1.0000 - val_loss: 0.5182 - val_acc: 0.8500\n"
     ]
    }
   ],
   "source": [
    "history_1 = model_1.fit_generator(\n",
    "    train_generator,\n",
    "    steps_per_epoch = total_train // batch_size,\n",
    "    epochs = epochs,\n",
    "    validation_data = validation_generator,\n",
    "    validation_steps = total_val // batch_size\n",
    ")"
   ]
  },
  {
   "cell_type": "code",
   "execution_count": 8,
   "metadata": {},
   "outputs": [
    {
     "data": {
      "image/png": "[encoded data removed]",
      "text/plain": [
       "<Figure size 1152x576 with 2 Axes>"
      ]
     },
     "metadata": {
      "needs_background": "light"
     },
     "output_type": "display_data"
    }
   ],
   "source": [
    "acc = history_1.history['acc']\n",
    "val_acc = history_1.history['val_acc']\n",
    "\n",
    "loss = history_1.history['loss']\n",
    "val_loss = history_1.history['val_loss']\n",
    "\n",
    "epochs_range = range(epochs)\n",
    "\n",
    "plt.figure(figsize=(16, 8))\n",
    "plt.subplot(1, 2, 1)\n",
    "plt.plot(epochs_range, acc, label='Train Accuracy')\n",
    "plt.plot(epochs_range, val_acc, label='Validation Accuracy')\n",
    "plt.legend(loc='lower right')\n",
    "plt.title('Training and Validation Accuracy')\n",
    "\n",
    "plt.subplot(1, 2, 2)\n",
    "plt.plot(epochs_range, loss, label='Train Loss')\n",
    "plt.plot(epochs_range, val_loss, label='Validation Loss')\n",
    "plt.legend(loc='lower left')\n",
    "plt.title('Training and Validation Loss')\n",
    "\n",
    "plt.show()"
   ]
  }
 ],
 "metadata": {
  "kernelspec": {
   "display_name": "Python 3",
   "language": "python",
   "name": "python3"
  },
  "language_info": {
   "codemirror_mode": {
    "name": "ipython",
    "version": 3
   },
   "file_extension": ".py",
   "mimetype": "text/x-python",
   "name": "python",
   "nbconvert_exporter": "python",
   "pygments_lexer": "ipython3",
   "version": "3.7.3"
  }
 },
 "nbformat": 4,
 "nbformat_minor": 2
}
